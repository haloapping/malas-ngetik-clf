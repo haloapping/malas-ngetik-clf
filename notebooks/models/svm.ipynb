{
 "cells": [
  {
   "cell_type": "markdown",
   "id": "0e08a7d8",
   "metadata": {},
   "source": [
    "# Load Dataset"
   ]
  },
  {
   "cell_type": "code",
   "execution_count": 1,
   "id": "3021de2e",
   "metadata": {
    "ExecuteTime": {
     "end_time": "2022-06-03T04:22:04.874556Z",
     "start_time": "2022-06-03T04:21:54.880686Z"
    }
   },
   "outputs": [],
   "source": [
    "import pandas as pd\n",
    "\n",
    "train_df = pd.read_csv(\"../../datasets/feature_engineering/train.csv\", index_col=\"PassengerId\")\n",
    "test_df = pd.read_csv(\"../../datasets/feature_engineering/test.csv\", index_col=\"PassengerId\")"
   ]
  },
  {
   "cell_type": "markdown",
   "id": "7d688b9d",
   "metadata": {},
   "source": [
    "# Split Dataset (Train and Test)"
   ]
  },
  {
   "cell_type": "code",
   "execution_count": 2,
   "id": "c5b73ca9",
   "metadata": {
    "ExecuteTime": {
     "end_time": "2022-06-03T04:22:08.879324Z",
     "start_time": "2022-06-03T04:22:04.880662Z"
    }
   },
   "outputs": [
    {
     "name": "stdout",
     "output_type": "stream",
     "text": [
      "X_train shape : (891, 10)\n",
      "X_train shape : (891,)\n",
      "X_test shape  : (418, 10)\n"
     ]
    }
   ],
   "source": [
    "from sklearn.model_selection import train_test_split\n",
    "\n",
    "X_train = train_df.drop(columns=[\"age\", \"pclass\", \"name\", \"ticket\", \"cabin\", \"deck\", \"no_ticket\", \"is_alone\", \"survived\"])\n",
    "y_train = train_df.survived\n",
    "\n",
    "X_test = test_df.drop(columns=[\"age\", \"pclass\", \"name\", \"ticket\", \"cabin\", \"deck\", \"is_alone\", \"no_ticket\"])\n",
    "\n",
    "print(f\"X_train shape : {X_train.shape}\")\n",
    "print(f\"X_train shape : {y_train.shape}\")\n",
    "print(f\"X_test shape  : {X_test.shape}\")"
   ]
  },
  {
   "cell_type": "markdown",
   "id": "8a6a719a",
   "metadata": {},
   "source": [
    "## Preprocessing Data Pipeline"
   ]
  },
  {
   "cell_type": "code",
   "execution_count": 3,
   "id": "72414950",
   "metadata": {
    "ExecuteTime": {
     "end_time": "2022-06-03T04:22:09.071644Z",
     "start_time": "2022-06-03T04:22:08.883778Z"
    }
   },
   "outputs": [],
   "source": [
    "from sklearn.impute import SimpleImputer\n",
    "from sklearn.pipeline import Pipeline\n",
    "from sklearn.preprocessing import OneHotEncoder\n",
    "\n",
    "from sklearn.impute import SimpleImputer, KNNImputer\n",
    "from sklearn.pipeline import Pipeline\n",
    "from sklearn.preprocessing import MinMaxScaler, Normalizer, PowerTransformer, RobustScaler\n",
    "from sklearn.compose import ColumnTransformer, make_column_selector\n",
    "\n",
    "numerical_prep_pipeline = Pipeline(\n",
    "    steps=[\n",
    "        (\"imputer\", SimpleImputer(strategy=\"mean\")),\n",
    "        (\"scaler\", RobustScaler(quantile_range=(5., 80.)))\n",
    "    ],\n",
    "    verbose=1\n",
    ")\n",
    "\n",
    "categorical_prep_pipeline = Pipeline(\n",
    "    steps=[\n",
    "        (\"imputer\", SimpleImputer(strategy=\"most_frequent\")),\n",
    "        (\"encoder\", OneHotEncoder())\n",
    "    ],\n",
    "    verbose=1\n",
    ")\n",
    "\n",
    "preprocess_pipeline = ColumnTransformer(\n",
    "    transformers=[\n",
    "        (\"step1_numerical_pipeline\", numerical_prep_pipeline, make_column_selector(dtype_include=\"number\")),\n",
    "        (\"step2_categorical_pipeline\", categorical_prep_pipeline, make_column_selector(dtype_include=\"object\"))\n",
    "    ],\n",
    "    verbose=1, verbose_feature_names_out=True\n",
    ")"
   ]
  },
  {
   "cell_type": "markdown",
   "id": "c8e41e59",
   "metadata": {},
   "source": [
    "## Model Pipeline"
   ]
  },
  {
   "cell_type": "code",
   "execution_count": 4,
   "id": "a4fb54a4",
   "metadata": {
    "ExecuteTime": {
     "end_time": "2022-06-03T04:22:09.101648Z",
     "start_time": "2022-06-03T04:22:09.079219Z"
    }
   },
   "outputs": [],
   "source": [
    "from sklearn.svm import SVC\n",
    "\n",
    "model_pipeline = Pipeline(\n",
    "    steps=[\n",
    "        (\"step1_preprocess_pipeline\", preprocess_pipeline),\n",
    "        (\"step2_algo\", SVC())\n",
    "    ],\n",
    "    verbose=1\n",
    ")"
   ]
  },
  {
   "cell_type": "markdown",
   "id": "3fc82dbf",
   "metadata": {},
   "source": [
    "# Train"
   ]
  },
  {
   "cell_type": "code",
   "execution_count": 5,
   "id": "74fb17dc",
   "metadata": {
    "ExecuteTime": {
     "end_time": "2022-06-03T04:23:19.271574Z",
     "start_time": "2022-06-03T04:22:09.113719Z"
    }
   },
   "outputs": [
    {
     "name": "stdout",
     "output_type": "stream",
     "text": [
      "Fitting 3 folds for each of 10 candidates, totalling 30 fits\n"
     ]
    },
    {
     "name": "stderr",
     "output_type": "stream",
     "text": [
      "C:\\ProgramData\\Miniconda3\\envs\\ml\\lib\\site-packages\\sklearn\\model_selection\\_validation.py:372: FitFailedWarning: \n",
      "6 fits failed out of a total of 30.\n",
      "The score on these train-test partitions for these parameters will be set to nan.\n",
      "If these failures are not expected, you can try to debug them by setting error_score='raise'.\n",
      "\n",
      "Below are more details about the failures:\n",
      "--------------------------------------------------------------------------------\n",
      "6 fits failed with the following error:\n",
      "Traceback (most recent call last):\n",
      "  File \"C:\\ProgramData\\Miniconda3\\envs\\ml\\lib\\site-packages\\sklearn\\model_selection\\_validation.py\", line 680, in _fit_and_score\n",
      "    estimator.fit(X_train, y_train, **fit_params)\n",
      "  File \"C:\\ProgramData\\Miniconda3\\envs\\ml\\lib\\site-packages\\sklearn\\pipeline.py\", line 394, in fit\n",
      "    self._final_estimator.fit(Xt, y, **fit_params_last_step)\n",
      "  File \"C:\\ProgramData\\Miniconda3\\envs\\ml\\lib\\site-packages\\sklearn\\svm\\_base.py\", line 215, in fit\n",
      "    raise ValueError(\n",
      "ValueError: Precomputed matrix must be a square matrix. Input is a 594x16 matrix.\n",
      "\n",
      "  warnings.warn(some_fits_failed_message, FitFailedWarning)\n",
      "C:\\ProgramData\\Miniconda3\\envs\\ml\\lib\\site-packages\\sklearn\\model_selection\\_search.py:969: UserWarning: One or more of the test scores are non-finite: [0.82716049 0.66105499        nan 0.65319865 0.82716049 0.70931538\n",
      " 0.82267116 0.82828283 0.82716049        nan]\n",
      "  warnings.warn(\n"
     ]
    },
    {
     "name": "stdout",
     "output_type": "stream",
     "text": [
      "[Pipeline] ........... (step 1 of 2) Processing imputer, total=   0.1s\n",
      "[Pipeline] ............ (step 2 of 2) Processing scaler, total=   0.0s\n",
      "[ColumnTransformer]  (1 of 2) Processing step1_numerical_pipeline, total=   0.1s\n",
      "[Pipeline] ........... (step 1 of 2) Processing imputer, total=   0.0s\n",
      "[Pipeline] ........... (step 2 of 2) Processing encoder, total=   0.0s\n",
      "[ColumnTransformer]  (2 of 2) Processing step2_categorical_pipeline, total=   0.0s\n",
      "[Pipeline]  (step 1 of 2) Processing step1_preprocess_pipeline, total=   0.1s\n",
      "[Pipeline] ........ (step 2 of 2) Processing step2_algo, total=   1.0s\n"
     ]
    },
    {
     "data": {
      "text/html": [
       "<div>\n",
       "<style scoped>\n",
       "    .dataframe tbody tr th:only-of-type {\n",
       "        vertical-align: middle;\n",
       "    }\n",
       "\n",
       "    .dataframe tbody tr th {\n",
       "        vertical-align: top;\n",
       "    }\n",
       "\n",
       "    .dataframe thead th {\n",
       "        text-align: right;\n",
       "    }\n",
       "</style>\n",
       "<table border=\"1\" class=\"dataframe\">\n",
       "  <thead>\n",
       "    <tr style=\"text-align: right;\">\n",
       "      <th></th>\n",
       "      <th>mean_fit_time</th>\n",
       "      <th>std_fit_time</th>\n",
       "      <th>mean_score_time</th>\n",
       "      <th>std_score_time</th>\n",
       "      <th>param_step2_algo__shrinking</th>\n",
       "      <th>param_step2_algo__probability</th>\n",
       "      <th>param_step2_algo__kernel</th>\n",
       "      <th>param_step2_algo__gamma</th>\n",
       "      <th>param_step2_algo__degree</th>\n",
       "      <th>param_step2_algo__C</th>\n",
       "      <th>params</th>\n",
       "      <th>split0_test_score</th>\n",
       "      <th>split1_test_score</th>\n",
       "      <th>split2_test_score</th>\n",
       "      <th>mean_test_score</th>\n",
       "      <th>std_test_score</th>\n",
       "      <th>rank_test_score</th>\n",
       "    </tr>\n",
       "  </thead>\n",
       "  <tbody>\n",
       "    <tr>\n",
       "      <th>7</th>\n",
       "      <td>7.608171</td>\n",
       "      <td>1.186215</td>\n",
       "      <td>0.120314</td>\n",
       "      <td>0.043483</td>\n",
       "      <td>True</td>\n",
       "      <td>True</td>\n",
       "      <td>rbf</td>\n",
       "      <td>auto</td>\n",
       "      <td>3</td>\n",
       "      <td>2.0</td>\n",
       "      <td>{'step2_algo__shrinking': True, 'step2_algo__p...</td>\n",
       "      <td>0.818182</td>\n",
       "      <td>0.831650</td>\n",
       "      <td>0.835017</td>\n",
       "      <td>0.828283</td>\n",
       "      <td>0.007274</td>\n",
       "      <td>1</td>\n",
       "    </tr>\n",
       "    <tr>\n",
       "      <th>0</th>\n",
       "      <td>5.574873</td>\n",
       "      <td>1.270942</td>\n",
       "      <td>0.081765</td>\n",
       "      <td>0.034843</td>\n",
       "      <td>False</td>\n",
       "      <td>False</td>\n",
       "      <td>linear</td>\n",
       "      <td>auto</td>\n",
       "      <td>4</td>\n",
       "      <td>0.1</td>\n",
       "      <td>{'step2_algo__shrinking': False, 'step2_algo__...</td>\n",
       "      <td>0.824916</td>\n",
       "      <td>0.835017</td>\n",
       "      <td>0.821549</td>\n",
       "      <td>0.827160</td>\n",
       "      <td>0.005723</td>\n",
       "      <td>2</td>\n",
       "    </tr>\n",
       "    <tr>\n",
       "      <th>4</th>\n",
       "      <td>5.687791</td>\n",
       "      <td>1.913336</td>\n",
       "      <td>0.039486</td>\n",
       "      <td>0.014857</td>\n",
       "      <td>False</td>\n",
       "      <td>False</td>\n",
       "      <td>linear</td>\n",
       "      <td>scale</td>\n",
       "      <td>2</td>\n",
       "      <td>0.125</td>\n",
       "      <td>{'step2_algo__shrinking': False, 'step2_algo__...</td>\n",
       "      <td>0.824916</td>\n",
       "      <td>0.835017</td>\n",
       "      <td>0.821549</td>\n",
       "      <td>0.827160</td>\n",
       "      <td>0.005723</td>\n",
       "      <td>2</td>\n",
       "    </tr>\n",
       "    <tr>\n",
       "      <th>8</th>\n",
       "      <td>6.714461</td>\n",
       "      <td>1.480610</td>\n",
       "      <td>0.046314</td>\n",
       "      <td>0.006470</td>\n",
       "      <td>False</td>\n",
       "      <td>False</td>\n",
       "      <td>poly</td>\n",
       "      <td>scale</td>\n",
       "      <td>3</td>\n",
       "      <td>2.0</td>\n",
       "      <td>{'step2_algo__shrinking': False, 'step2_algo__...</td>\n",
       "      <td>0.821549</td>\n",
       "      <td>0.835017</td>\n",
       "      <td>0.824916</td>\n",
       "      <td>0.827160</td>\n",
       "      <td>0.005723</td>\n",
       "      <td>4</td>\n",
       "    </tr>\n",
       "    <tr>\n",
       "      <th>6</th>\n",
       "      <td>8.066979</td>\n",
       "      <td>1.885569</td>\n",
       "      <td>0.029049</td>\n",
       "      <td>0.002566</td>\n",
       "      <td>False</td>\n",
       "      <td>True</td>\n",
       "      <td>linear</td>\n",
       "      <td>scale</td>\n",
       "      <td>3</td>\n",
       "      <td>2.0</td>\n",
       "      <td>{'step2_algo__shrinking': False, 'step2_algo__...</td>\n",
       "      <td>0.818182</td>\n",
       "      <td>0.831650</td>\n",
       "      <td>0.818182</td>\n",
       "      <td>0.822671</td>\n",
       "      <td>0.006349</td>\n",
       "      <td>5</td>\n",
       "    </tr>\n",
       "  </tbody>\n",
       "</table>\n",
       "</div>"
      ],
      "text/plain": [
       "   mean_fit_time  std_fit_time  mean_score_time  std_score_time  \\\n",
       "7       7.608171      1.186215         0.120314        0.043483   \n",
       "0       5.574873      1.270942         0.081765        0.034843   \n",
       "4       5.687791      1.913336         0.039486        0.014857   \n",
       "8       6.714461      1.480610         0.046314        0.006470   \n",
       "6       8.066979      1.885569         0.029049        0.002566   \n",
       "\n",
       "  param_step2_algo__shrinking param_step2_algo__probability  \\\n",
       "7                        True                          True   \n",
       "0                       False                         False   \n",
       "4                       False                         False   \n",
       "8                       False                         False   \n",
       "6                       False                          True   \n",
       "\n",
       "  param_step2_algo__kernel param_step2_algo__gamma param_step2_algo__degree  \\\n",
       "7                      rbf                    auto                        3   \n",
       "0                   linear                    auto                        4   \n",
       "4                   linear                   scale                        2   \n",
       "8                     poly                   scale                        3   \n",
       "6                   linear                   scale                        3   \n",
       "\n",
       "  param_step2_algo__C                                             params  \\\n",
       "7                 2.0  {'step2_algo__shrinking': True, 'step2_algo__p...   \n",
       "0                 0.1  {'step2_algo__shrinking': False, 'step2_algo__...   \n",
       "4               0.125  {'step2_algo__shrinking': False, 'step2_algo__...   \n",
       "8                 2.0  {'step2_algo__shrinking': False, 'step2_algo__...   \n",
       "6                 2.0  {'step2_algo__shrinking': False, 'step2_algo__...   \n",
       "\n",
       "   split0_test_score  split1_test_score  split2_test_score  mean_test_score  \\\n",
       "7           0.818182           0.831650           0.835017         0.828283   \n",
       "0           0.824916           0.835017           0.821549         0.827160   \n",
       "4           0.824916           0.835017           0.821549         0.827160   \n",
       "8           0.821549           0.835017           0.824916         0.827160   \n",
       "6           0.818182           0.831650           0.818182         0.822671   \n",
       "\n",
       "   std_test_score  rank_test_score  \n",
       "7        0.007274                1  \n",
       "0        0.005723                2  \n",
       "4        0.005723                2  \n",
       "8        0.005723                4  \n",
       "6        0.006349                5  "
      ]
     },
     "execution_count": 5,
     "metadata": {},
     "output_type": "execute_result"
    }
   ],
   "source": [
    "from sklearn.model_selection import RandomizedSearchCV\n",
    "\n",
    "params = {\n",
    "    \"step2_algo__C\": [0.125, 0.25, 0.1, 0.5, 1., 2.],\n",
    "    \"step2_algo__kernel\": [\"linear\", \"poly\", \"rbf\", \"sigmoid\", \"precomputed\"],\n",
    "    \"step2_algo__degree\": [2, 3, 4],\n",
    "    \"step2_algo__gamma\": [\"scale\", \"auto\"],\n",
    "    \"step2_algo__shrinking\": [True, False],\n",
    "    \"step2_algo__probability\": [True, False]\n",
    "}\n",
    "\n",
    "model = RandomizedSearchCV(estimator=model_pipeline, param_distributions=params, cv=3, scoring=\"accuracy\", n_jobs=-1, verbose=1)\n",
    "model.fit(X_train, y_train)\n",
    "\n",
    "pd.DataFrame(model.cv_results_).sort_values(by=\"rank_test_score\").iloc[:5, :]"
   ]
  },
  {
   "cell_type": "markdown",
   "id": "d1b941b8",
   "metadata": {},
   "source": [
    "# Save Model and Prediction"
   ]
  },
  {
   "cell_type": "markdown",
   "id": "e008272b",
   "metadata": {},
   "source": [
    "## Model"
   ]
  },
  {
   "cell_type": "code",
   "execution_count": 6,
   "id": "d93c3516",
   "metadata": {
    "ExecuteTime": {
     "end_time": "2022-06-03T04:23:19.393687Z",
     "start_time": "2022-06-03T04:23:19.276631Z"
    }
   },
   "outputs": [],
   "source": [
    "from datetime import datetime\n",
    "from joblib import dump, load\n",
    "\n",
    "now = datetime.now()\n",
    "now = now.strftime(\"%m_%d_%Y-%H_%M_%S\")\n",
    "model_name = str(model.estimator.named_steps.step2_algo).split(\"(\")[0]\n",
    "\n",
    "dump(value=model, filename=\"../../pretrained_models/\" + now + \"_\" + model_name +\".joblib\")\n",
    "model = load(filename=\"../../pretrained_models/\" + now + \"_\" + model_name + \".joblib\")"
   ]
  },
  {
   "cell_type": "markdown",
   "id": "1e0ff414",
   "metadata": {
    "ExecuteTime": {
     "end_time": "2022-06-03T03:05:44.137672Z",
     "start_time": "2022-06-03T03:05:44.118674Z"
    }
   },
   "source": [
    "## Prediction"
   ]
  },
  {
   "cell_type": "code",
   "execution_count": 7,
   "id": "2b35b16c",
   "metadata": {
    "ExecuteTime": {
     "end_time": "2022-06-03T04:23:19.735247Z",
     "start_time": "2022-06-03T04:23:19.399121Z"
    }
   },
   "outputs": [],
   "source": [
    "y_test_preds = model.predict(X=X_test)\n",
    "\n",
    "pred_df = pd.DataFrame({\n",
    "    \"PassengerId\": X_test.index,\n",
    "    \"Survived\": y_test_preds\n",
    "})\n",
    "\n",
    "pred_df.to_csv(\"../../submissions/\" + now + \"_\" + model_name + \".csv\", index=False)"
   ]
  },
  {
   "cell_type": "code",
   "execution_count": null,
   "id": "3cabc472",
   "metadata": {},
   "outputs": [],
   "source": []
  }
 ],
 "metadata": {
  "kernelspec": {
   "display_name": "Python [conda env:ml] *",
   "language": "python",
   "name": "conda-env-ml-py"
  },
  "language_info": {
   "codemirror_mode": {
    "name": "ipython",
    "version": 3
   },
   "file_extension": ".py",
   "mimetype": "text/x-python",
   "name": "python",
   "nbconvert_exporter": "python",
   "pygments_lexer": "ipython3",
   "version": "3.10.4"
  },
  "nbTranslate": {
   "displayLangs": [
    "*"
   ],
   "hotkey": "alt-t",
   "langInMainMenu": true,
   "sourceLang": "en",
   "targetLang": "fr",
   "useGoogleTranslate": true
  },
  "toc": {
   "base_numbering": 1,
   "nav_menu": {},
   "number_sections": true,
   "sideBar": true,
   "skip_h1_title": false,
   "title_cell": "Table of Contents",
   "title_sidebar": "Contents",
   "toc_cell": false,
   "toc_position": {},
   "toc_section_display": true,
   "toc_window_display": true
  }
 },
 "nbformat": 4,
 "nbformat_minor": 5
}
