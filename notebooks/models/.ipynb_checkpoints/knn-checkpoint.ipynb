{
 "cells": [
  {
   "cell_type": "markdown",
   "id": "0e08a7d8",
   "metadata": {},
   "source": [
    "# Load Dataset"
   ]
  },
  {
   "cell_type": "code",
   "execution_count": 1,
   "id": "3021de2e",
   "metadata": {
    "ExecuteTime": {
     "end_time": "2022-06-03T12:15:23.194147Z",
     "start_time": "2022-06-03T12:15:21.374646Z"
    }
   },
   "outputs": [],
   "source": [
    "import pandas as pd\n",
    "\n",
    "train_df = pd.read_csv(\"../../datasets/feature_engineering/train.csv\", index_col=\"PassengerId\")\n",
    "test_df = pd.read_csv(\"../../datasets/feature_engineering/test.csv\", index_col=\"PassengerId\")"
   ]
  },
  {
   "cell_type": "markdown",
   "id": "7d688b9d",
   "metadata": {},
   "source": [
    "# Split Dataset (Train and Test)"
   ]
  },
  {
   "cell_type": "code",
   "execution_count": 2,
   "id": "c5b73ca9",
   "metadata": {
    "ExecuteTime": {
     "end_time": "2022-06-03T12:15:25.764909Z",
     "start_time": "2022-06-03T12:15:23.204924Z"
    }
   },
   "outputs": [
    {
     "name": "stdout",
     "output_type": "stream",
     "text": [
      "X_train shape : (891, 10)\n",
      "X_train shape : (891,)\n",
      "X_test shape  : (418, 10)\n"
     ]
    }
   ],
   "source": [
    "from sklearn.model_selection import train_test_split\n",
    "\n",
    "X_train = train_df.drop(columns=[\"age\", \"pclass\", \"name\", \"ticket\", \"cabin\", \"deck\", \"no_ticket\", \"is_alone\", \"survived\"])\n",
    "y_train = train_df.survived\n",
    "\n",
    "X_test = test_df.drop(columns=[\"age\", \"pclass\", \"name\", \"ticket\", \"cabin\", \"deck\", \"is_alone\", \"no_ticket\"])\n",
    "\n",
    "print(f\"X_train shape : {X_train.shape}\")\n",
    "print(f\"X_train shape : {y_train.shape}\")\n",
    "print(f\"X_test shape  : {X_test.shape}\")"
   ]
  },
  {
   "cell_type": "markdown",
   "id": "8a6a719a",
   "metadata": {},
   "source": [
    "## Preprocessing Data Pipeline"
   ]
  },
  {
   "cell_type": "code",
   "execution_count": 3,
   "id": "72414950",
   "metadata": {
    "ExecuteTime": {
     "end_time": "2022-06-03T12:15:25.991021Z",
     "start_time": "2022-06-03T12:15:25.770309Z"
    }
   },
   "outputs": [],
   "source": [
    "from sklearn.impute import SimpleImputer\n",
    "from sklearn.compose import ColumnTransformer, make_column_selector\n",
    "from sklearn.pipeline import Pipeline\n",
    "from sklearn.preprocessing import  MinMaxScaler, OneHotEncoder\n",
    "\n",
    "numerical_prep_pipeline = Pipeline(\n",
    "    steps=[\n",
    "        (\"imputer\", SimpleImputer(strategy=\"mean\")),\n",
    "        (\"scaler\", MinMaxScaler())\n",
    "    ],\n",
    "    verbose=1\n",
    ")\n",
    "\n",
    "categorical_prep_pipeline = Pipeline(\n",
    "    steps=[\n",
    "        (\"imputer\", SimpleImputer(strategy=\"most_frequent\")),\n",
    "        (\"encoder\", OneHotEncoder())\n",
    "    ],\n",
    "    verbose=1\n",
    ")\n",
    "\n",
    "preprocess_pipeline = ColumnTransformer(\n",
    "    transformers=[\n",
    "        (\"numerical_pipeline\", numerical_prep_pipeline, make_column_selector(dtype_include=\"number\")),\n",
    "        (\"categorical_pipeline\", categorical_prep_pipeline, make_column_selector(dtype_include=\"object\"))\n",
    "    ],\n",
    "    verbose=1, verbose_feature_names_out=True\n",
    ")"
   ]
  },
  {
   "cell_type": "markdown",
   "id": "0a1ffb42",
   "metadata": {},
   "source": [
    "### X_train transform"
   ]
  },
  {
   "cell_type": "code",
   "execution_count": 4,
   "id": "21c3bf5d",
   "metadata": {
    "ExecuteTime": {
     "end_time": "2022-06-03T12:15:26.136098Z",
     "start_time": "2022-06-03T12:15:25.996892Z"
    }
   },
   "outputs": [
    {
     "name": "stdout",
     "output_type": "stream",
     "text": [
      "[Pipeline] ........... (step 1 of 2) Processing imputer, total=   0.0s\n",
      "[Pipeline] ............ (step 2 of 2) Processing scaler, total=   0.0s\n",
      "[ColumnTransformer]  (1 of 2) Processing numerical_pipeline, total=   0.0s\n",
      "[Pipeline] ........... (step 1 of 2) Processing imputer, total=   0.0s\n",
      "[Pipeline] ........... (step 2 of 2) Processing encoder, total=   0.0s\n",
      "[ColumnTransformer]  (2 of 2) Processing categorical_pipeline, total=   0.0s\n"
     ]
    },
    {
     "data": {
      "text/html": [
       "<div>\n",
       "<style scoped>\n",
       "    .dataframe tbody tr th:only-of-type {\n",
       "        vertical-align: middle;\n",
       "    }\n",
       "\n",
       "    .dataframe tbody tr th {\n",
       "        vertical-align: top;\n",
       "    }\n",
       "\n",
       "    .dataframe thead th {\n",
       "        text-align: right;\n",
       "    }\n",
       "</style>\n",
       "<table border=\"1\" class=\"dataframe\">\n",
       "  <thead>\n",
       "    <tr style=\"text-align: right;\">\n",
       "      <th></th>\n",
       "      <th>0</th>\n",
       "      <th>1</th>\n",
       "      <th>2</th>\n",
       "      <th>3</th>\n",
       "      <th>4</th>\n",
       "      <th>5</th>\n",
       "      <th>6</th>\n",
       "      <th>7</th>\n",
       "      <th>8</th>\n",
       "      <th>9</th>\n",
       "      <th>10</th>\n",
       "      <th>11</th>\n",
       "      <th>12</th>\n",
       "      <th>13</th>\n",
       "      <th>14</th>\n",
       "      <th>15</th>\n",
       "    </tr>\n",
       "  </thead>\n",
       "  <tbody>\n",
       "    <tr>\n",
       "      <th>0</th>\n",
       "      <td>0.125</td>\n",
       "      <td>0.0</td>\n",
       "      <td>0.014151</td>\n",
       "      <td>0.0</td>\n",
       "      <td>0.1</td>\n",
       "      <td>0.294373</td>\n",
       "      <td>0.007076</td>\n",
       "      <td>0.0</td>\n",
       "      <td>1.0</td>\n",
       "      <td>0.0</td>\n",
       "      <td>0.0</td>\n",
       "      <td>1.0</td>\n",
       "      <td>0.0</td>\n",
       "      <td>0.0</td>\n",
       "      <td>1.0</td>\n",
       "      <td>0.0</td>\n",
       "    </tr>\n",
       "    <tr>\n",
       "      <th>1</th>\n",
       "      <td>0.125</td>\n",
       "      <td>0.0</td>\n",
       "      <td>0.139136</td>\n",
       "      <td>0.5</td>\n",
       "      <td>0.1</td>\n",
       "      <td>0.167722</td>\n",
       "      <td>0.069568</td>\n",
       "      <td>1.0</td>\n",
       "      <td>0.0</td>\n",
       "      <td>1.0</td>\n",
       "      <td>0.0</td>\n",
       "      <td>0.0</td>\n",
       "      <td>0.0</td>\n",
       "      <td>0.0</td>\n",
       "      <td>0.0</td>\n",
       "      <td>1.0</td>\n",
       "    </tr>\n",
       "    <tr>\n",
       "      <th>2</th>\n",
       "      <td>0.000</td>\n",
       "      <td>0.0</td>\n",
       "      <td>0.015469</td>\n",
       "      <td>0.0</td>\n",
       "      <td>0.0</td>\n",
       "      <td>0.348652</td>\n",
       "      <td>0.015469</td>\n",
       "      <td>1.0</td>\n",
       "      <td>0.0</td>\n",
       "      <td>0.0</td>\n",
       "      <td>0.0</td>\n",
       "      <td>1.0</td>\n",
       "      <td>0.0</td>\n",
       "      <td>1.0</td>\n",
       "      <td>0.0</td>\n",
       "      <td>0.0</td>\n",
       "    </tr>\n",
       "  </tbody>\n",
       "</table>\n",
       "</div>"
      ],
      "text/plain": [
       "      0    1         2    3    4         5         6    7    8    9    10  \\\n",
       "0  0.125  0.0  0.014151  0.0  0.1  0.294373  0.007076  0.0  1.0  0.0  0.0   \n",
       "1  0.125  0.0  0.139136  0.5  0.1  0.167722  0.069568  1.0  0.0  1.0  0.0   \n",
       "2  0.000  0.0  0.015469  0.0  0.0  0.348652  0.015469  1.0  0.0  0.0  0.0   \n",
       "\n",
       "    11   12   13   14   15  \n",
       "0  1.0  0.0  0.0  1.0  0.0  \n",
       "1  0.0  0.0  0.0  0.0  1.0  \n",
       "2  1.0  0.0  1.0  0.0  0.0  "
      ]
     },
     "execution_count": 4,
     "metadata": {},
     "output_type": "execute_result"
    }
   ],
   "source": [
    "pd.DataFrame(preprocess_pipeline.fit_transform(X_train)[:3])"
   ]
  },
  {
   "cell_type": "markdown",
   "id": "e002bba9",
   "metadata": {},
   "source": [
    "### X_test transform"
   ]
  },
  {
   "cell_type": "code",
   "execution_count": 5,
   "id": "9be016d3",
   "metadata": {
    "ExecuteTime": {
     "end_time": "2022-06-03T12:15:26.251364Z",
     "start_time": "2022-06-03T12:15:26.143093Z"
    }
   },
   "outputs": [
    {
     "name": "stdout",
     "output_type": "stream",
     "text": [
      "[Pipeline] ........... (step 1 of 2) Processing imputer, total=   0.0s\n",
      "[Pipeline] ............ (step 2 of 2) Processing scaler, total=   0.0s\n",
      "[ColumnTransformer]  (1 of 2) Processing numerical_pipeline, total=   0.0s\n",
      "[Pipeline] ........... (step 1 of 2) Processing imputer, total=   0.0s\n",
      "[Pipeline] ........... (step 2 of 2) Processing encoder, total=   0.0s\n",
      "[ColumnTransformer]  (2 of 2) Processing categorical_pipeline, total=   0.0s\n"
     ]
    },
    {
     "data": {
      "text/html": [
       "<div>\n",
       "<style scoped>\n",
       "    .dataframe tbody tr th:only-of-type {\n",
       "        vertical-align: middle;\n",
       "    }\n",
       "\n",
       "    .dataframe tbody tr th {\n",
       "        vertical-align: top;\n",
       "    }\n",
       "\n",
       "    .dataframe thead th {\n",
       "        text-align: right;\n",
       "    }\n",
       "</style>\n",
       "<table border=\"1\" class=\"dataframe\">\n",
       "  <thead>\n",
       "    <tr style=\"text-align: right;\">\n",
       "      <th></th>\n",
       "      <th>0</th>\n",
       "      <th>1</th>\n",
       "      <th>2</th>\n",
       "      <th>3</th>\n",
       "      <th>4</th>\n",
       "      <th>5</th>\n",
       "      <th>6</th>\n",
       "      <th>7</th>\n",
       "      <th>8</th>\n",
       "      <th>9</th>\n",
       "      <th>10</th>\n",
       "      <th>11</th>\n",
       "      <th>12</th>\n",
       "      <th>13</th>\n",
       "      <th>14</th>\n",
       "      <th>15</th>\n",
       "    </tr>\n",
       "  </thead>\n",
       "  <tbody>\n",
       "    <tr>\n",
       "      <th>0</th>\n",
       "      <td>0.000</td>\n",
       "      <td>0.0</td>\n",
       "      <td>0.015282</td>\n",
       "      <td>0.0</td>\n",
       "      <td>0.0</td>\n",
       "      <td>0.569037</td>\n",
       "      <td>0.029840</td>\n",
       "      <td>0.0</td>\n",
       "      <td>1.0</td>\n",
       "      <td>0.0</td>\n",
       "      <td>1.0</td>\n",
       "      <td>0.0</td>\n",
       "      <td>0.0</td>\n",
       "      <td>0.0</td>\n",
       "      <td>1.0</td>\n",
       "      <td>0.0</td>\n",
       "    </tr>\n",
       "    <tr>\n",
       "      <th>1</th>\n",
       "      <td>0.125</td>\n",
       "      <td>0.0</td>\n",
       "      <td>0.013663</td>\n",
       "      <td>0.0</td>\n",
       "      <td>0.1</td>\n",
       "      <td>0.776231</td>\n",
       "      <td>0.013340</td>\n",
       "      <td>1.0</td>\n",
       "      <td>0.0</td>\n",
       "      <td>0.0</td>\n",
       "      <td>0.0</td>\n",
       "      <td>1.0</td>\n",
       "      <td>0.0</td>\n",
       "      <td>0.0</td>\n",
       "      <td>0.0</td>\n",
       "      <td>1.0</td>\n",
       "    </tr>\n",
       "    <tr>\n",
       "      <th>2</th>\n",
       "      <td>0.000</td>\n",
       "      <td>0.0</td>\n",
       "      <td>0.018909</td>\n",
       "      <td>0.0</td>\n",
       "      <td>0.0</td>\n",
       "      <td>0.682303</td>\n",
       "      <td>0.036922</td>\n",
       "      <td>0.0</td>\n",
       "      <td>1.0</td>\n",
       "      <td>0.0</td>\n",
       "      <td>1.0</td>\n",
       "      <td>0.0</td>\n",
       "      <td>0.0</td>\n",
       "      <td>0.0</td>\n",
       "      <td>1.0</td>\n",
       "      <td>0.0</td>\n",
       "    </tr>\n",
       "  </tbody>\n",
       "</table>\n",
       "</div>"
      ],
      "text/plain": [
       "      0    1         2    3    4         5         6    7    8    9    10  \\\n",
       "0  0.000  0.0  0.015282  0.0  0.0  0.569037  0.029840  0.0  1.0  0.0  1.0   \n",
       "1  0.125  0.0  0.013663  0.0  0.1  0.776231  0.013340  1.0  0.0  0.0  0.0   \n",
       "2  0.000  0.0  0.018909  0.0  0.0  0.682303  0.036922  0.0  1.0  0.0  1.0   \n",
       "\n",
       "    11   12   13   14   15  \n",
       "0  0.0  0.0  0.0  1.0  0.0  \n",
       "1  1.0  0.0  0.0  0.0  1.0  \n",
       "2  0.0  0.0  0.0  1.0  0.0  "
      ]
     },
     "execution_count": 5,
     "metadata": {},
     "output_type": "execute_result"
    }
   ],
   "source": [
    "pd.DataFrame(preprocess_pipeline.fit_transform(X_test)[:3])"
   ]
  },
  {
   "cell_type": "markdown",
   "id": "c8e41e59",
   "metadata": {},
   "source": [
    "## Model Pipeline"
   ]
  },
  {
   "cell_type": "code",
   "execution_count": 6,
   "id": "a4fb54a4",
   "metadata": {
    "ExecuteTime": {
     "end_time": "2022-06-03T12:15:26.282619Z",
     "start_time": "2022-06-03T12:15:26.259054Z"
    }
   },
   "outputs": [],
   "source": [
    "from sklearn.neighbors import KNeighborsClassifier\n",
    "\n",
    "model_pipeline = Pipeline(\n",
    "    steps=[\n",
    "        (\"preprocess_pipeline\", preprocess_pipeline),\n",
    "        (\"algo\", KNeighborsClassifier(n_jobs=-1))\n",
    "    ],\n",
    "    verbose=1\n",
    ")"
   ]
  },
  {
   "cell_type": "markdown",
   "id": "3fc82dbf",
   "metadata": {},
   "source": [
    "# Train"
   ]
  },
  {
   "cell_type": "code",
   "execution_count": 7,
   "id": "74fb17dc",
   "metadata": {
    "ExecuteTime": {
     "end_time": "2022-06-03T12:15:35.207665Z",
     "start_time": "2022-06-03T12:15:26.289284Z"
    }
   },
   "outputs": [
    {
     "name": "stdout",
     "output_type": "stream",
     "text": [
      "Fitting 3 folds for each of 10 candidates, totalling 30 fits\n",
      "[Pipeline] ........... (step 1 of 2) Processing imputer, total=   0.0s\n",
      "[Pipeline] ............ (step 2 of 2) Processing scaler, total=   0.0s\n",
      "[ColumnTransformer]  (1 of 2) Processing numerical_pipeline, total=   0.0s\n",
      "[Pipeline] ........... (step 1 of 2) Processing imputer, total=   0.0s\n",
      "[Pipeline] ........... (step 2 of 2) Processing encoder, total=   0.0s\n",
      "[ColumnTransformer]  (2 of 2) Processing categorical_pipeline, total=   0.0s\n",
      "[Pipeline]  (step 1 of 2) Processing preprocess_pipeline, total=   0.0s\n",
      "[Pipeline] .............. (step 2 of 2) Processing algo, total=   0.0s\n"
     ]
    },
    {
     "data": {
      "text/html": [
       "<div>\n",
       "<style scoped>\n",
       "    .dataframe tbody tr th:only-of-type {\n",
       "        vertical-align: middle;\n",
       "    }\n",
       "\n",
       "    .dataframe tbody tr th {\n",
       "        vertical-align: top;\n",
       "    }\n",
       "\n",
       "    .dataframe thead th {\n",
       "        text-align: right;\n",
       "    }\n",
       "</style>\n",
       "<table border=\"1\" class=\"dataframe\">\n",
       "  <thead>\n",
       "    <tr style=\"text-align: right;\">\n",
       "      <th></th>\n",
       "      <th>mean_fit_time</th>\n",
       "      <th>std_fit_time</th>\n",
       "      <th>mean_score_time</th>\n",
       "      <th>std_score_time</th>\n",
       "      <th>param_algo__weights</th>\n",
       "      <th>param_algo__n_neighbors</th>\n",
       "      <th>param_algo__leaf_size</th>\n",
       "      <th>param_algo__algorithm</th>\n",
       "      <th>params</th>\n",
       "      <th>split0_test_score</th>\n",
       "      <th>split1_test_score</th>\n",
       "      <th>split2_test_score</th>\n",
       "      <th>mean_test_score</th>\n",
       "      <th>std_test_score</th>\n",
       "      <th>rank_test_score</th>\n",
       "    </tr>\n",
       "  </thead>\n",
       "  <tbody>\n",
       "    <tr>\n",
       "      <th>5</th>\n",
       "      <td>0.152025</td>\n",
       "      <td>0.002311</td>\n",
       "      <td>0.126951</td>\n",
       "      <td>0.006353</td>\n",
       "      <td>uniform</td>\n",
       "      <td>3</td>\n",
       "      <td>43</td>\n",
       "      <td>ball_tree</td>\n",
       "      <td>{'algo__weights': 'uniform', 'algo__n_neighbor...</td>\n",
       "      <td>0.801347</td>\n",
       "      <td>0.804714</td>\n",
       "      <td>0.808081</td>\n",
       "      <td>0.804714</td>\n",
       "      <td>0.002749</td>\n",
       "      <td>1</td>\n",
       "    </tr>\n",
       "    <tr>\n",
       "      <th>4</th>\n",
       "      <td>0.092761</td>\n",
       "      <td>0.013540</td>\n",
       "      <td>0.157738</td>\n",
       "      <td>0.005452</td>\n",
       "      <td>distance</td>\n",
       "      <td>45</td>\n",
       "      <td>46</td>\n",
       "      <td>brute</td>\n",
       "      <td>{'algo__weights': 'distance', 'algo__n_neighbo...</td>\n",
       "      <td>0.801347</td>\n",
       "      <td>0.811448</td>\n",
       "      <td>0.787879</td>\n",
       "      <td>0.800224</td>\n",
       "      <td>0.009655</td>\n",
       "      <td>2</td>\n",
       "    </tr>\n",
       "    <tr>\n",
       "      <th>0</th>\n",
       "      <td>0.125188</td>\n",
       "      <td>0.029778</td>\n",
       "      <td>0.124355</td>\n",
       "      <td>0.017896</td>\n",
       "      <td>distance</td>\n",
       "      <td>13</td>\n",
       "      <td>27</td>\n",
       "      <td>auto</td>\n",
       "      <td>{'algo__weights': 'distance', 'algo__n_neighbo...</td>\n",
       "      <td>0.794613</td>\n",
       "      <td>0.808081</td>\n",
       "      <td>0.777778</td>\n",
       "      <td>0.793490</td>\n",
       "      <td>0.012397</td>\n",
       "      <td>3</td>\n",
       "    </tr>\n",
       "    <tr>\n",
       "      <th>1</th>\n",
       "      <td>0.136402</td>\n",
       "      <td>0.044095</td>\n",
       "      <td>0.117386</td>\n",
       "      <td>0.007263</td>\n",
       "      <td>distance</td>\n",
       "      <td>25</td>\n",
       "      <td>17</td>\n",
       "      <td>auto</td>\n",
       "      <td>{'algo__weights': 'distance', 'algo__n_neighbo...</td>\n",
       "      <td>0.791246</td>\n",
       "      <td>0.808081</td>\n",
       "      <td>0.781145</td>\n",
       "      <td>0.793490</td>\n",
       "      <td>0.011111</td>\n",
       "      <td>3</td>\n",
       "    </tr>\n",
       "    <tr>\n",
       "      <th>6</th>\n",
       "      <td>0.155390</td>\n",
       "      <td>0.007327</td>\n",
       "      <td>0.073615</td>\n",
       "      <td>0.002450</td>\n",
       "      <td>distance</td>\n",
       "      <td>23</td>\n",
       "      <td>43</td>\n",
       "      <td>kd_tree</td>\n",
       "      <td>{'algo__weights': 'distance', 'algo__n_neighbo...</td>\n",
       "      <td>0.784512</td>\n",
       "      <td>0.814815</td>\n",
       "      <td>0.781145</td>\n",
       "      <td>0.793490</td>\n",
       "      <td>0.015141</td>\n",
       "      <td>3</td>\n",
       "    </tr>\n",
       "  </tbody>\n",
       "</table>\n",
       "</div>"
      ],
      "text/plain": [
       "   mean_fit_time  std_fit_time  mean_score_time  std_score_time  \\\n",
       "5       0.152025      0.002311         0.126951        0.006353   \n",
       "4       0.092761      0.013540         0.157738        0.005452   \n",
       "0       0.125188      0.029778         0.124355        0.017896   \n",
       "1       0.136402      0.044095         0.117386        0.007263   \n",
       "6       0.155390      0.007327         0.073615        0.002450   \n",
       "\n",
       "  param_algo__weights param_algo__n_neighbors param_algo__leaf_size  \\\n",
       "5             uniform                       3                    43   \n",
       "4            distance                      45                    46   \n",
       "0            distance                      13                    27   \n",
       "1            distance                      25                    17   \n",
       "6            distance                      23                    43   \n",
       "\n",
       "  param_algo__algorithm                                             params  \\\n",
       "5             ball_tree  {'algo__weights': 'uniform', 'algo__n_neighbor...   \n",
       "4                 brute  {'algo__weights': 'distance', 'algo__n_neighbo...   \n",
       "0                  auto  {'algo__weights': 'distance', 'algo__n_neighbo...   \n",
       "1                  auto  {'algo__weights': 'distance', 'algo__n_neighbo...   \n",
       "6               kd_tree  {'algo__weights': 'distance', 'algo__n_neighbo...   \n",
       "\n",
       "   split0_test_score  split1_test_score  split2_test_score  mean_test_score  \\\n",
       "5           0.801347           0.804714           0.808081         0.804714   \n",
       "4           0.801347           0.811448           0.787879         0.800224   \n",
       "0           0.794613           0.808081           0.777778         0.793490   \n",
       "1           0.791246           0.808081           0.781145         0.793490   \n",
       "6           0.784512           0.814815           0.781145         0.793490   \n",
       "\n",
       "   std_test_score  rank_test_score  \n",
       "5        0.002749                1  \n",
       "4        0.009655                2  \n",
       "0        0.012397                3  \n",
       "1        0.011111                3  \n",
       "6        0.015141                3  "
      ]
     },
     "execution_count": 7,
     "metadata": {},
     "output_type": "execute_result"
    }
   ],
   "source": [
    "from sklearn.model_selection import RandomizedSearchCV\n",
    "\n",
    "params = {\n",
    "    \"algo__n_neighbors\": [k for k in range(1, 52, 2)],\n",
    "    \"algo__weights\": [\"uniform\", \"distance\"],\n",
    "    \"algo__algorithm\": [\"auto\", \"ball_tree\", \"kd_tree\", \"brute\"],\n",
    "    \"algo__leaf_size\": [n for n in range(1, 50)]\n",
    "}\n",
    "\n",
    "model = RandomizedSearchCV(estimator=model_pipeline, param_distributions=params, cv=3, scoring=\"accuracy\", n_jobs=-1, verbose=1)\n",
    "model.fit(X_train, y_train)\n",
    "\n",
    "pd.DataFrame(model.cv_results_).sort_values(by=\"rank_test_score\").iloc[:5, :]"
   ]
  },
  {
   "cell_type": "markdown",
   "id": "d1b941b8",
   "metadata": {},
   "source": [
    "# Save Model and Prediction"
   ]
  },
  {
   "cell_type": "markdown",
   "id": "e008272b",
   "metadata": {},
   "source": [
    "## Model"
   ]
  },
  {
   "cell_type": "code",
   "execution_count": 8,
   "id": "d93c3516",
   "metadata": {
    "ExecuteTime": {
     "end_time": "2022-06-03T12:15:35.285928Z",
     "start_time": "2022-06-03T12:15:35.211889Z"
    }
   },
   "outputs": [],
   "source": [
    "from datetime import datetime\n",
    "from joblib import dump, load\n",
    "\n",
    "now = datetime.now()\n",
    "now = now.strftime(\"%m_%d_%Y-%H_%M_%S\")\n",
    "model_name = str(model.estimator.named_steps.algo).split(\"(\")[0]\n",
    "\n",
    "dump(value=model, filename=\"../../pretrained_models/\" + now + \"_\" + model_name +\".joblib\")\n",
    "model = load(filename=\"../../pretrained_models/\" + now + \"_\" + model_name + \".joblib\")"
   ]
  },
  {
   "cell_type": "markdown",
   "id": "1e0ff414",
   "metadata": {
    "ExecuteTime": {
     "end_time": "2022-06-03T03:05:44.137672Z",
     "start_time": "2022-06-03T03:05:44.118674Z"
    }
   },
   "source": [
    "## Prediction"
   ]
  },
  {
   "cell_type": "code",
   "execution_count": 9,
   "id": "2b35b16c",
   "metadata": {
    "ExecuteTime": {
     "end_time": "2022-06-03T12:15:35.379644Z",
     "start_time": "2022-06-03T12:15:35.290477Z"
    }
   },
   "outputs": [],
   "source": [
    "y_test_preds = model.predict(X=X_test)\n",
    "\n",
    "pred_df = pd.DataFrame({\n",
    "    \"PassengerId\": X_test.index,\n",
    "    \"Survived\": y_test_preds\n",
    "})\n",
    "\n",
    "pred_df.to_csv(\"../../submissions/\" + now + \"_\" + model_name + \".csv\", index=False)"
   ]
  }
 ],
 "metadata": {
  "kernelspec": {
   "display_name": "Python [conda env:ml] *",
   "language": "python",
   "name": "conda-env-ml-py"
  },
  "language_info": {
   "codemirror_mode": {
    "name": "ipython",
    "version": 3
   },
   "file_extension": ".py",
   "mimetype": "text/x-python",
   "name": "python",
   "nbconvert_exporter": "python",
   "pygments_lexer": "ipython3",
   "version": "3.10.4"
  },
  "nbTranslate": {
   "displayLangs": [
    "*"
   ],
   "hotkey": "alt-t",
   "langInMainMenu": true,
   "sourceLang": "en",
   "targetLang": "fr",
   "useGoogleTranslate": true
  },
  "toc": {
   "base_numbering": 1,
   "nav_menu": {},
   "number_sections": true,
   "sideBar": true,
   "skip_h1_title": false,
   "title_cell": "Table of Contents",
   "title_sidebar": "Contents",
   "toc_cell": false,
   "toc_position": {},
   "toc_section_display": true,
   "toc_window_display": true
  }
 },
 "nbformat": 4,
 "nbformat_minor": 5
}
