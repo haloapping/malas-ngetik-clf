{
 "cells": [
  {
   "cell_type": "markdown",
   "id": "0e08a7d8",
   "metadata": {},
   "source": [
    "# Load Dataset"
   ]
  },
  {
   "cell_type": "code",
   "execution_count": 1,
   "id": "3021de2e",
   "metadata": {
    "ExecuteTime": {
     "end_time": "2022-06-03T04:22:07.521224Z",
     "start_time": "2022-06-03T04:21:58.876712Z"
    }
   },
   "outputs": [],
   "source": [
    "import pandas as pd\n",
    "\n",
    "train_df = pd.read_csv(\"../../datasets/feature_engineering/train.csv\", index_col=\"PassengerId\")\n",
    "test_df = pd.read_csv(\"../../datasets/feature_engineering/test.csv\", index_col=\"PassengerId\")"
   ]
  },
  {
   "cell_type": "markdown",
   "id": "7d688b9d",
   "metadata": {},
   "source": [
    "# Split Dataset (Train and Test)"
   ]
  },
  {
   "cell_type": "code",
   "execution_count": 2,
   "id": "c5b73ca9",
   "metadata": {
    "ExecuteTime": {
     "end_time": "2022-06-03T04:22:11.873761Z",
     "start_time": "2022-06-03T04:22:07.529278Z"
    }
   },
   "outputs": [
    {
     "name": "stdout",
     "output_type": "stream",
     "text": [
      "X_train shape : (891, 10)\n",
      "X_train shape : (891,)\n",
      "X_test shape  : (418, 10)\n"
     ]
    }
   ],
   "source": [
    "from sklearn.model_selection import train_test_split\n",
    "\n",
    "X_train = train_df.drop(columns=[\"age\", \"pclass\", \"name\", \"ticket\", \"cabin\", \"deck\", \"no_ticket\", \"is_alone\", \"survived\"])\n",
    "y_train = train_df.survived\n",
    "\n",
    "X_test = test_df.drop(columns=[\"age\", \"pclass\", \"name\", \"ticket\", \"cabin\", \"deck\", \"is_alone\", \"no_ticket\"])\n",
    "\n",
    "print(f\"X_train shape : {X_train.shape}\")\n",
    "print(f\"X_train shape : {y_train.shape}\")\n",
    "print(f\"X_test shape  : {X_test.shape}\")"
   ]
  },
  {
   "cell_type": "markdown",
   "id": "8a6a719a",
   "metadata": {},
   "source": [
    "## Preprocessing Data Pipeline"
   ]
  },
  {
   "cell_type": "code",
   "execution_count": 3,
   "id": "72414950",
   "metadata": {
    "ExecuteTime": {
     "end_time": "2022-06-03T04:22:12.042968Z",
     "start_time": "2022-06-03T04:22:11.876694Z"
    }
   },
   "outputs": [],
   "source": [
    "from sklearn.impute import SimpleImputer\n",
    "from sklearn.pipeline import Pipeline\n",
    "from sklearn.preprocessing import OneHotEncoder\n",
    "\n",
    "from sklearn.impute import SimpleImputer, KNNImputer\n",
    "from sklearn.pipeline import Pipeline\n",
    "from sklearn.preprocessing import MinMaxScaler, Normalizer, PowerTransformer, RobustScaler\n",
    "from sklearn.compose import ColumnTransformer, make_column_selector\n",
    "\n",
    "numerical_prep_pipeline = Pipeline(\n",
    "    steps=[\n",
    "        (\"imputer\", SimpleImputer(strategy=\"mean\")),\n",
    "        (\"scaler\", RobustScaler(quantile_range=(5., 80.)))\n",
    "    ],\n",
    "    verbose=1\n",
    ")\n",
    "\n",
    "categorical_prep_pipeline = Pipeline(\n",
    "    steps=[\n",
    "        (\"imputer\", SimpleImputer(strategy=\"most_frequent\")),\n",
    "        (\"encoder\", OneHotEncoder())\n",
    "    ],\n",
    "    verbose=1\n",
    ")\n",
    "\n",
    "preprocess_pipeline = ColumnTransformer(\n",
    "    transformers=[\n",
    "        (\"step1_numerical_pipeline\", numerical_prep_pipeline, make_column_selector(dtype_include=\"number\")),\n",
    "        (\"step2_categorical_pipeline\", categorical_prep_pipeline, make_column_selector(dtype_include=\"object\"))\n",
    "    ],\n",
    "    verbose=1, verbose_feature_names_out=True\n",
    ")"
   ]
  },
  {
   "cell_type": "markdown",
   "id": "c8e41e59",
   "metadata": {},
   "source": [
    "## Model Pipeline"
   ]
  },
  {
   "cell_type": "code",
   "execution_count": 4,
   "id": "a4fb54a4",
   "metadata": {
    "ExecuteTime": {
     "end_time": "2022-06-03T04:22:12.200060Z",
     "start_time": "2022-06-03T04:22:12.048761Z"
    }
   },
   "outputs": [],
   "source": [
    "from sklearn.ensemble import RandomForestClassifier\n",
    "\n",
    "model_pipeline = Pipeline(\n",
    "    steps=[\n",
    "        (\"step1_preprocess_pipeline\", preprocess_pipeline),\n",
    "        (\"step2_algo\", RandomForestClassifier(n_jobs=-1))\n",
    "    ],\n",
    "    verbose=1\n",
    ")"
   ]
  },
  {
   "cell_type": "markdown",
   "id": "3fc82dbf",
   "metadata": {},
   "source": [
    "# Train"
   ]
  },
  {
   "cell_type": "code",
   "execution_count": 5,
   "id": "74fb17dc",
   "metadata": {
    "ExecuteTime": {
     "end_time": "2022-06-03T04:23:30.875765Z",
     "start_time": "2022-06-03T04:22:12.204155Z"
    }
   },
   "outputs": [
    {
     "name": "stdout",
     "output_type": "stream",
     "text": [
      "Fitting 3 folds for each of 10 candidates, totalling 30 fits\n"
     ]
    },
    {
     "name": "stderr",
     "output_type": "stream",
     "text": [
      "C:\\ProgramData\\Miniconda3\\envs\\ml\\lib\\site-packages\\sklearn\\model_selection\\_validation.py:372: FitFailedWarning: \n",
      "9 fits failed out of a total of 30.\n",
      "The score on these train-test partitions for these parameters will be set to nan.\n",
      "If these failures are not expected, you can try to debug them by setting error_score='raise'.\n",
      "\n",
      "Below are more details about the failures:\n",
      "--------------------------------------------------------------------------------\n",
      "9 fits failed with the following error:\n",
      "Traceback (most recent call last):\n",
      "  File \"C:\\ProgramData\\Miniconda3\\envs\\ml\\lib\\site-packages\\sklearn\\model_selection\\_validation.py\", line 680, in _fit_and_score\n",
      "    estimator.fit(X_train, y_train, **fit_params)\n",
      "  File \"C:\\ProgramData\\Miniconda3\\envs\\ml\\lib\\site-packages\\sklearn\\pipeline.py\", line 394, in fit\n",
      "    self._final_estimator.fit(Xt, y, **fit_params_last_step)\n",
      "  File \"C:\\ProgramData\\Miniconda3\\envs\\ml\\lib\\site-packages\\sklearn\\ensemble\\_forest.py\", line 450, in fit\n",
      "    trees = Parallel(\n",
      "  File \"C:\\ProgramData\\Miniconda3\\envs\\ml\\lib\\site-packages\\joblib\\parallel.py\", line 1056, in __call__\n",
      "    self.retrieve()\n",
      "  File \"C:\\ProgramData\\Miniconda3\\envs\\ml\\lib\\site-packages\\joblib\\parallel.py\", line 935, in retrieve\n",
      "    self._output.extend(job.get(timeout=self.timeout))\n",
      "  File \"C:\\ProgramData\\Miniconda3\\envs\\ml\\lib\\multiprocessing\\pool.py\", line 771, in get\n",
      "    raise self._value\n",
      "  File \"C:\\ProgramData\\Miniconda3\\envs\\ml\\lib\\multiprocessing\\pool.py\", line 125, in worker\n",
      "    result = (True, func(*args, **kwds))\n",
      "  File \"C:\\ProgramData\\Miniconda3\\envs\\ml\\lib\\site-packages\\joblib\\_parallel_backends.py\", line 595, in __call__\n",
      "    return self.func(*args, **kwargs)\n",
      "  File \"C:\\ProgramData\\Miniconda3\\envs\\ml\\lib\\site-packages\\joblib\\parallel.py\", line 262, in __call__\n",
      "    return [func(*args, **kwargs)\n",
      "  File \"C:\\ProgramData\\Miniconda3\\envs\\ml\\lib\\site-packages\\joblib\\parallel.py\", line 262, in <listcomp>\n",
      "    return [func(*args, **kwargs)\n",
      "  File \"C:\\ProgramData\\Miniconda3\\envs\\ml\\lib\\site-packages\\sklearn\\utils\\fixes.py\", line 216, in __call__\n",
      "    return self.function(*args, **kwargs)\n",
      "  File \"C:\\ProgramData\\Miniconda3\\envs\\ml\\lib\\site-packages\\sklearn\\ensemble\\_forest.py\", line 185, in _parallel_build_trees\n",
      "    tree.fit(X, y, sample_weight=curr_sample_weight, check_input=False)\n",
      "  File \"C:\\ProgramData\\Miniconda3\\envs\\ml\\lib\\site-packages\\sklearn\\tree\\_classes.py\", line 937, in fit\n",
      "    super().fit(\n",
      "  File \"C:\\ProgramData\\Miniconda3\\envs\\ml\\lib\\site-packages\\sklearn\\tree\\_classes.py\", line 352, in fit\n",
      "    criterion = CRITERIA_CLF[self.criterion](\n",
      "KeyError: 'log_loss'\n",
      "\n",
      "  warnings.warn(some_fits_failed_message, FitFailedWarning)\n",
      "C:\\ProgramData\\Miniconda3\\envs\\ml\\lib\\site-packages\\sklearn\\model_selection\\_search.py:969: UserWarning: One or more of the test scores are non-finite: [0.79349046        nan 0.80246914 0.75982043        nan 0.8013468\n",
      " 0.75982043        nan 0.80022447 0.79685746]\n",
      "  warnings.warn(\n"
     ]
    },
    {
     "name": "stdout",
     "output_type": "stream",
     "text": [
      "[Pipeline] ........... (step 1 of 2) Processing imputer, total=   0.0s\n",
      "[Pipeline] ............ (step 2 of 2) Processing scaler, total=   0.0s\n",
      "[ColumnTransformer]  (1 of 2) Processing step1_numerical_pipeline, total=   0.0s\n",
      "[Pipeline] ........... (step 1 of 2) Processing imputer, total=   0.0s\n",
      "[Pipeline] ........... (step 2 of 2) Processing encoder, total=   0.0s\n",
      "[ColumnTransformer]  (2 of 2) Processing step2_categorical_pipeline, total=   0.0s\n",
      "[Pipeline]  (step 1 of 2) Processing step1_preprocess_pipeline, total=   0.1s\n",
      "[Pipeline] ........ (step 2 of 2) Processing step2_algo, total=   0.7s\n"
     ]
    },
    {
     "data": {
      "text/html": [
       "<div>\n",
       "<style scoped>\n",
       "    .dataframe tbody tr th:only-of-type {\n",
       "        vertical-align: middle;\n",
       "    }\n",
       "\n",
       "    .dataframe tbody tr th {\n",
       "        vertical-align: top;\n",
       "    }\n",
       "\n",
       "    .dataframe thead th {\n",
       "        text-align: right;\n",
       "    }\n",
       "</style>\n",
       "<table border=\"1\" class=\"dataframe\">\n",
       "  <thead>\n",
       "    <tr style=\"text-align: right;\">\n",
       "      <th></th>\n",
       "      <th>mean_fit_time</th>\n",
       "      <th>std_fit_time</th>\n",
       "      <th>mean_score_time</th>\n",
       "      <th>std_score_time</th>\n",
       "      <th>param_step2_algo__n_estimators</th>\n",
       "      <th>param_step2_algo__max_features</th>\n",
       "      <th>param_step2_algo__criterion</th>\n",
       "      <th>param_step2_algo__class_weight</th>\n",
       "      <th>param_step2_algo__bootstrap</th>\n",
       "      <th>params</th>\n",
       "      <th>split0_test_score</th>\n",
       "      <th>split1_test_score</th>\n",
       "      <th>split2_test_score</th>\n",
       "      <th>mean_test_score</th>\n",
       "      <th>std_test_score</th>\n",
       "      <th>rank_test_score</th>\n",
       "    </tr>\n",
       "  </thead>\n",
       "  <tbody>\n",
       "    <tr>\n",
       "      <th>2</th>\n",
       "      <td>7.830009</td>\n",
       "      <td>1.191480</td>\n",
       "      <td>0.920177</td>\n",
       "      <td>0.063531</td>\n",
       "      <td>100</td>\n",
       "      <td>None</td>\n",
       "      <td>entropy</td>\n",
       "      <td>balanced</td>\n",
       "      <td>True</td>\n",
       "      <td>{'step2_algo__n_estimators': 100, 'step2_algo_...</td>\n",
       "      <td>0.787879</td>\n",
       "      <td>0.818182</td>\n",
       "      <td>0.801347</td>\n",
       "      <td>0.802469</td>\n",
       "      <td>0.012397</td>\n",
       "      <td>1</td>\n",
       "    </tr>\n",
       "    <tr>\n",
       "      <th>5</th>\n",
       "      <td>6.446938</td>\n",
       "      <td>1.161490</td>\n",
       "      <td>0.872549</td>\n",
       "      <td>0.312958</td>\n",
       "      <td>200</td>\n",
       "      <td>log2</td>\n",
       "      <td>gini</td>\n",
       "      <td>balanced</td>\n",
       "      <td>True</td>\n",
       "      <td>{'step2_algo__n_estimators': 200, 'step2_algo_...</td>\n",
       "      <td>0.797980</td>\n",
       "      <td>0.824916</td>\n",
       "      <td>0.781145</td>\n",
       "      <td>0.801347</td>\n",
       "      <td>0.018027</td>\n",
       "      <td>2</td>\n",
       "    </tr>\n",
       "    <tr>\n",
       "      <th>8</th>\n",
       "      <td>6.399026</td>\n",
       "      <td>0.349417</td>\n",
       "      <td>0.493044</td>\n",
       "      <td>0.177624</td>\n",
       "      <td>400</td>\n",
       "      <td>log2</td>\n",
       "      <td>gini</td>\n",
       "      <td>balanced_subsample</td>\n",
       "      <td>True</td>\n",
       "      <td>{'step2_algo__n_estimators': 400, 'step2_algo_...</td>\n",
       "      <td>0.801347</td>\n",
       "      <td>0.814815</td>\n",
       "      <td>0.784512</td>\n",
       "      <td>0.800224</td>\n",
       "      <td>0.012397</td>\n",
       "      <td>3</td>\n",
       "    </tr>\n",
       "    <tr>\n",
       "      <th>9</th>\n",
       "      <td>4.224968</td>\n",
       "      <td>0.195018</td>\n",
       "      <td>0.616075</td>\n",
       "      <td>0.070499</td>\n",
       "      <td>200</td>\n",
       "      <td>sqrt</td>\n",
       "      <td>gini</td>\n",
       "      <td>balanced</td>\n",
       "      <td>True</td>\n",
       "      <td>{'step2_algo__n_estimators': 200, 'step2_algo_...</td>\n",
       "      <td>0.804714</td>\n",
       "      <td>0.801347</td>\n",
       "      <td>0.784512</td>\n",
       "      <td>0.796857</td>\n",
       "      <td>0.008837</td>\n",
       "      <td>4</td>\n",
       "    </tr>\n",
       "    <tr>\n",
       "      <th>0</th>\n",
       "      <td>7.997633</td>\n",
       "      <td>0.418959</td>\n",
       "      <td>0.989733</td>\n",
       "      <td>0.156290</td>\n",
       "      <td>300</td>\n",
       "      <td>sqrt</td>\n",
       "      <td>gini</td>\n",
       "      <td>balanced_subsample</td>\n",
       "      <td>False</td>\n",
       "      <td>{'step2_algo__n_estimators': 300, 'step2_algo_...</td>\n",
       "      <td>0.797980</td>\n",
       "      <td>0.801347</td>\n",
       "      <td>0.781145</td>\n",
       "      <td>0.793490</td>\n",
       "      <td>0.008837</td>\n",
       "      <td>5</td>\n",
       "    </tr>\n",
       "  </tbody>\n",
       "</table>\n",
       "</div>"
      ],
      "text/plain": [
       "   mean_fit_time  std_fit_time  mean_score_time  std_score_time  \\\n",
       "2       7.830009      1.191480         0.920177        0.063531   \n",
       "5       6.446938      1.161490         0.872549        0.312958   \n",
       "8       6.399026      0.349417         0.493044        0.177624   \n",
       "9       4.224968      0.195018         0.616075        0.070499   \n",
       "0       7.997633      0.418959         0.989733        0.156290   \n",
       "\n",
       "  param_step2_algo__n_estimators param_step2_algo__max_features  \\\n",
       "2                            100                           None   \n",
       "5                            200                           log2   \n",
       "8                            400                           log2   \n",
       "9                            200                           sqrt   \n",
       "0                            300                           sqrt   \n",
       "\n",
       "  param_step2_algo__criterion param_step2_algo__class_weight  \\\n",
       "2                     entropy                       balanced   \n",
       "5                        gini                       balanced   \n",
       "8                        gini             balanced_subsample   \n",
       "9                        gini                       balanced   \n",
       "0                        gini             balanced_subsample   \n",
       "\n",
       "  param_step2_algo__bootstrap  \\\n",
       "2                        True   \n",
       "5                        True   \n",
       "8                        True   \n",
       "9                        True   \n",
       "0                       False   \n",
       "\n",
       "                                              params  split0_test_score  \\\n",
       "2  {'step2_algo__n_estimators': 100, 'step2_algo_...           0.787879   \n",
       "5  {'step2_algo__n_estimators': 200, 'step2_algo_...           0.797980   \n",
       "8  {'step2_algo__n_estimators': 400, 'step2_algo_...           0.801347   \n",
       "9  {'step2_algo__n_estimators': 200, 'step2_algo_...           0.804714   \n",
       "0  {'step2_algo__n_estimators': 300, 'step2_algo_...           0.797980   \n",
       "\n",
       "   split1_test_score  split2_test_score  mean_test_score  std_test_score  \\\n",
       "2           0.818182           0.801347         0.802469        0.012397   \n",
       "5           0.824916           0.781145         0.801347        0.018027   \n",
       "8           0.814815           0.784512         0.800224        0.012397   \n",
       "9           0.801347           0.784512         0.796857        0.008837   \n",
       "0           0.801347           0.781145         0.793490        0.008837   \n",
       "\n",
       "   rank_test_score  \n",
       "2                1  \n",
       "5                2  \n",
       "8                3  \n",
       "9                4  \n",
       "0                5  "
      ]
     },
     "execution_count": 5,
     "metadata": {},
     "output_type": "execute_result"
    }
   ],
   "source": [
    "from sklearn.model_selection import RandomizedSearchCV\n",
    "\n",
    "params = {\n",
    "    \"step2_algo__n_estimators\": [100, 200, 300, 400, 500],\n",
    "    \"step2_algo__criterion\": [\"gini\", \"entropy\", \"log_loss\"],\n",
    "    \"step2_algo__max_features\": [\"sqrt\", \"log2\", None],\n",
    "    \"step2_algo__bootstrap\": [True, False],\n",
    "    \"step2_algo__class_weight\": [\"balanced\", \"balanced_subsample\"]\n",
    "    \n",
    "}\n",
    "\n",
    "model = RandomizedSearchCV(estimator=model_pipeline, param_distributions=params, cv=3, scoring=\"accuracy\", n_jobs=-1, verbose=1)\n",
    "model.fit(X_train, y_train);\n",
    "\n",
    "pd.DataFrame(model.cv_results_).sort_values(by=\"rank_test_score\").iloc[:5, :]"
   ]
  },
  {
   "cell_type": "markdown",
   "id": "d1b941b8",
   "metadata": {},
   "source": [
    "# Save Model and Prediction"
   ]
  },
  {
   "cell_type": "markdown",
   "id": "e008272b",
   "metadata": {},
   "source": [
    "## Model"
   ]
  },
  {
   "cell_type": "code",
   "execution_count": 6,
   "id": "d93c3516",
   "metadata": {
    "ExecuteTime": {
     "end_time": "2022-06-03T04:23:31.352262Z",
     "start_time": "2022-06-03T04:23:30.879777Z"
    }
   },
   "outputs": [],
   "source": [
    "from datetime import datetime\n",
    "from joblib import dump, load\n",
    "\n",
    "now = datetime.now()\n",
    "now = now.strftime(\"%m_%d_%Y-%H_%M_%S\")\n",
    "model_name = str(model.estimator.named_steps.step2_algo).split(\"(\")[0]\n",
    "\n",
    "dump(value=model, filename=\"../../pretrained_models/\" + now + \"_\" + model_name +\".joblib\")\n",
    "model = load(filename=\"../../pretrained_models/\" + now + \"_\" + model_name + \".joblib\")"
   ]
  },
  {
   "cell_type": "markdown",
   "id": "1e0ff414",
   "metadata": {
    "ExecuteTime": {
     "end_time": "2022-06-03T03:05:44.137672Z",
     "start_time": "2022-06-03T03:05:44.118674Z"
    }
   },
   "source": [
    "## Prediction"
   ]
  },
  {
   "cell_type": "code",
   "execution_count": 7,
   "id": "2b35b16c",
   "metadata": {
    "ExecuteTime": {
     "end_time": "2022-06-03T04:23:31.570689Z",
     "start_time": "2022-06-03T04:23:31.356361Z"
    }
   },
   "outputs": [],
   "source": [
    "y_test_preds = model.predict(X=X_test)\n",
    "\n",
    "pred_df = pd.DataFrame({\n",
    "    \"PassengerId\": X_test.index,\n",
    "    \"Survived\": y_test_preds\n",
    "})\n",
    "\n",
    "pred_df.to_csv(\"../../submissions/\" + now + \"_\" + model_name + \".csv\", index=False)"
   ]
  },
  {
   "cell_type": "code",
   "execution_count": null,
   "id": "d26c08a4",
   "metadata": {},
   "outputs": [],
   "source": []
  },
  {
   "cell_type": "code",
   "execution_count": null,
   "id": "a574df08",
   "metadata": {},
   "outputs": [],
   "source": []
  }
 ],
 "metadata": {
  "kernelspec": {
   "display_name": "Python [conda env:ml] *",
   "language": "python",
   "name": "conda-env-ml-py"
  },
  "language_info": {
   "codemirror_mode": {
    "name": "ipython",
    "version": 3
   },
   "file_extension": ".py",
   "mimetype": "text/x-python",
   "name": "python",
   "nbconvert_exporter": "python",
   "pygments_lexer": "ipython3",
   "version": "3.10.4"
  },
  "nbTranslate": {
   "displayLangs": [
    "*"
   ],
   "hotkey": "alt-t",
   "langInMainMenu": true,
   "sourceLang": "en",
   "targetLang": "fr",
   "useGoogleTranslate": true
  },
  "toc": {
   "base_numbering": 1,
   "nav_menu": {},
   "number_sections": true,
   "sideBar": true,
   "skip_h1_title": false,
   "title_cell": "Table of Contents",
   "title_sidebar": "Contents",
   "toc_cell": false,
   "toc_position": {},
   "toc_section_display": true,
   "toc_window_display": true
  }
 },
 "nbformat": 4,
 "nbformat_minor": 5
}
