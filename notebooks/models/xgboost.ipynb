{
 "cells": [
  {
   "cell_type": "markdown",
   "id": "0e08a7d8",
   "metadata": {},
   "source": [
    "# Load Dataset"
   ]
  },
  {
   "cell_type": "code",
   "execution_count": 1,
   "id": "3021de2e",
   "metadata": {
    "ExecuteTime": {
     "end_time": "2022-06-03T04:24:17.951668Z",
     "start_time": "2022-06-03T04:24:15.944992Z"
    }
   },
   "outputs": [],
   "source": [
    "import pandas as pd\n",
    "\n",
    "train_df = pd.read_csv(\"../../datasets/feature_engineering/train.csv\", index_col=\"PassengerId\")\n",
    "test_df = pd.read_csv(\"../../datasets/feature_engineering/test.csv\", index_col=\"PassengerId\")"
   ]
  },
  {
   "cell_type": "markdown",
   "id": "7d688b9d",
   "metadata": {},
   "source": [
    "# Split Dataset (Train and Test)"
   ]
  },
  {
   "cell_type": "code",
   "execution_count": 2,
   "id": "c5b73ca9",
   "metadata": {
    "ExecuteTime": {
     "end_time": "2022-06-03T04:24:20.796450Z",
     "start_time": "2022-06-03T04:24:18.436362Z"
    }
   },
   "outputs": [
    {
     "name": "stdout",
     "output_type": "stream",
     "text": [
      "X_train shape : (891, 10)\n",
      "X_train shape : (891,)\n",
      "X_test shape  : (418, 10)\n"
     ]
    }
   ],
   "source": [
    "from sklearn.model_selection import train_test_split\n",
    "\n",
    "X_train = train_df.drop(columns=[\"age\", \"pclass\", \"name\", \"ticket\", \"cabin\", \"deck\", \"no_ticket\", \"is_alone\", \"survived\"])\n",
    "y_train = train_df.survived\n",
    "\n",
    "X_test = test_df.drop(columns=[\"age\", \"pclass\", \"name\", \"ticket\", \"cabin\", \"deck\", \"is_alone\", \"no_ticket\"])\n",
    "\n",
    "print(f\"X_train shape : {X_train.shape}\")\n",
    "print(f\"X_train shape : {y_train.shape}\")\n",
    "print(f\"X_test shape  : {X_test.shape}\")"
   ]
  },
  {
   "cell_type": "markdown",
   "id": "8a6a719a",
   "metadata": {},
   "source": [
    "## Preprocessing Data Pipeline"
   ]
  },
  {
   "cell_type": "code",
   "execution_count": 3,
   "id": "72414950",
   "metadata": {
    "ExecuteTime": {
     "end_time": "2022-06-03T04:24:21.391379Z",
     "start_time": "2022-06-03T04:24:21.167306Z"
    }
   },
   "outputs": [],
   "source": [
    "from sklearn.impute import SimpleImputer\n",
    "from sklearn.pipeline import Pipeline\n",
    "from sklearn.preprocessing import OneHotEncoder\n",
    "\n",
    "from sklearn.impute import SimpleImputer, KNNImputer\n",
    "from sklearn.pipeline import Pipeline\n",
    "from sklearn.preprocessing import MinMaxScaler, Normalizer, PowerTransformer, RobustScaler\n",
    "from sklearn.compose import ColumnTransformer, make_column_selector\n",
    "\n",
    "numerical_prep_pipeline = Pipeline(\n",
    "    steps=[\n",
    "        (\"imputer\", SimpleImputer(strategy=\"mean\")),\n",
    "        (\"scaler\", RobustScaler(quantile_range=(5., 80.)))\n",
    "    ],\n",
    "    verbose=1\n",
    ")\n",
    "\n",
    "categorical_prep_pipeline = Pipeline(\n",
    "    steps=[\n",
    "        (\"imputer\", SimpleImputer(strategy=\"most_frequent\")),\n",
    "        (\"encoder\", OneHotEncoder())\n",
    "    ],\n",
    "    verbose=1\n",
    ")\n",
    "\n",
    "preprocess_pipeline = ColumnTransformer(\n",
    "    transformers=[\n",
    "        (\"step1_numerical_pipeline\", numerical_prep_pipeline, make_column_selector(dtype_include=\"number\")),\n",
    "        (\"step2_categorical_pipeline\", categorical_prep_pipeline, make_column_selector(dtype_include=\"object\"))\n",
    "    ],\n",
    "    verbose=1, verbose_feature_names_out=True\n",
    ")"
   ]
  },
  {
   "cell_type": "markdown",
   "id": "c8e41e59",
   "metadata": {},
   "source": [
    "## Model Pipeline"
   ]
  },
  {
   "cell_type": "code",
   "execution_count": 4,
   "id": "a4fb54a4",
   "metadata": {
    "ExecuteTime": {
     "end_time": "2022-06-03T04:24:22.160223Z",
     "start_time": "2022-06-03T04:24:21.739045Z"
    }
   },
   "outputs": [],
   "source": [
    "from xgboost import XGBClassifier\n",
    "\n",
    "model_pipeline = Pipeline(\n",
    "    steps=[\n",
    "        (\"step1_preprocess_pipeline\", preprocess_pipeline),\n",
    "        (\"step2_algo\", XGBClassifier(n_jobs=-1))\n",
    "    ],\n",
    "    verbose=1\n",
    ")"
   ]
  },
  {
   "cell_type": "markdown",
   "id": "3fc82dbf",
   "metadata": {},
   "source": [
    "# Train"
   ]
  },
  {
   "cell_type": "code",
   "execution_count": 5,
   "id": "74fb17dc",
   "metadata": {
    "ExecuteTime": {
     "end_time": "2022-06-03T04:28:17.756496Z",
     "start_time": "2022-06-03T04:24:22.283531Z"
    }
   },
   "outputs": [
    {
     "name": "stdout",
     "output_type": "stream",
     "text": [
      "Fitting 3 folds for each of 10 candidates, totalling 30 fits\n",
      "[Pipeline] ........... (step 1 of 2) Processing imputer, total=   0.0s\n",
      "[Pipeline] ............ (step 2 of 2) Processing scaler, total=   0.0s\n",
      "[ColumnTransformer]  (1 of 2) Processing step1_numerical_pipeline, total=   0.0s\n",
      "[Pipeline] ........... (step 1 of 2) Processing imputer, total=   0.0s\n",
      "[Pipeline] ........... (step 2 of 2) Processing encoder, total=   0.0s\n",
      "[ColumnTransformer]  (2 of 2) Processing step2_categorical_pipeline, total=   0.0s\n",
      "[Pipeline]  (step 1 of 2) Processing step1_preprocess_pipeline, total=   0.0s\n",
      "[Pipeline] ........ (step 2 of 2) Processing step2_algo, total= 2.4min\n"
     ]
    },
    {
     "data": {
      "text/html": [
       "<div>\n",
       "<style scoped>\n",
       "    .dataframe tbody tr th:only-of-type {\n",
       "        vertical-align: middle;\n",
       "    }\n",
       "\n",
       "    .dataframe tbody tr th {\n",
       "        vertical-align: top;\n",
       "    }\n",
       "\n",
       "    .dataframe thead th {\n",
       "        text-align: right;\n",
       "    }\n",
       "</style>\n",
       "<table border=\"1\" class=\"dataframe\">\n",
       "  <thead>\n",
       "    <tr style=\"text-align: right;\">\n",
       "      <th></th>\n",
       "      <th>mean_fit_time</th>\n",
       "      <th>std_fit_time</th>\n",
       "      <th>mean_score_time</th>\n",
       "      <th>std_score_time</th>\n",
       "      <th>param_step2_algo__tree_method</th>\n",
       "      <th>param_step2_algo__n_estimators</th>\n",
       "      <th>param_step2_algo__learning_rate</th>\n",
       "      <th>param_step2_algo__gamma</th>\n",
       "      <th>param_step2_algo__booster</th>\n",
       "      <th>params</th>\n",
       "      <th>split0_test_score</th>\n",
       "      <th>split1_test_score</th>\n",
       "      <th>split2_test_score</th>\n",
       "      <th>mean_test_score</th>\n",
       "      <th>std_test_score</th>\n",
       "      <th>rank_test_score</th>\n",
       "    </tr>\n",
       "  </thead>\n",
       "  <tbody>\n",
       "    <tr>\n",
       "      <th>8</th>\n",
       "      <td>5.933635</td>\n",
       "      <td>0.535526</td>\n",
       "      <td>0.021161</td>\n",
       "      <td>0.002154</td>\n",
       "      <td>approx</td>\n",
       "      <td>300</td>\n",
       "      <td>0.125</td>\n",
       "      <td>2.0</td>\n",
       "      <td>gbtree</td>\n",
       "      <td>{'step2_algo__tree_method': 'approx', 'step2_a...</td>\n",
       "      <td>0.808081</td>\n",
       "      <td>0.858586</td>\n",
       "      <td>0.838384</td>\n",
       "      <td>0.835017</td>\n",
       "      <td>0.020756</td>\n",
       "      <td>1</td>\n",
       "    </tr>\n",
       "    <tr>\n",
       "      <th>7</th>\n",
       "      <td>8.050634</td>\n",
       "      <td>0.428029</td>\n",
       "      <td>0.022518</td>\n",
       "      <td>0.002200</td>\n",
       "      <td>approx</td>\n",
       "      <td>500</td>\n",
       "      <td>0.25</td>\n",
       "      <td>2.0</td>\n",
       "      <td>gbtree</td>\n",
       "      <td>{'step2_algo__tree_method': 'approx', 'step2_a...</td>\n",
       "      <td>0.801347</td>\n",
       "      <td>0.851852</td>\n",
       "      <td>0.841751</td>\n",
       "      <td>0.831650</td>\n",
       "      <td>0.021821</td>\n",
       "      <td>2</td>\n",
       "    </tr>\n",
       "    <tr>\n",
       "      <th>3</th>\n",
       "      <td>25.289486</td>\n",
       "      <td>1.171854</td>\n",
       "      <td>0.537855</td>\n",
       "      <td>0.038842</td>\n",
       "      <td>hist</td>\n",
       "      <td>300</td>\n",
       "      <td>0.25</td>\n",
       "      <td>0.25</td>\n",
       "      <td>dart</td>\n",
       "      <td>{'step2_algo__tree_method': 'hist', 'step2_alg...</td>\n",
       "      <td>0.804714</td>\n",
       "      <td>0.831650</td>\n",
       "      <td>0.838384</td>\n",
       "      <td>0.824916</td>\n",
       "      <td>0.014547</td>\n",
       "      <td>3</td>\n",
       "    </tr>\n",
       "    <tr>\n",
       "      <th>0</th>\n",
       "      <td>4.393888</td>\n",
       "      <td>0.729186</td>\n",
       "      <td>0.024670</td>\n",
       "      <td>0.000669</td>\n",
       "      <td>approx</td>\n",
       "      <td>100</td>\n",
       "      <td>0.125</td>\n",
       "      <td>0.25</td>\n",
       "      <td>gblinear</td>\n",
       "      <td>{'step2_algo__tree_method': 'approx', 'step2_a...</td>\n",
       "      <td>0.811448</td>\n",
       "      <td>0.821549</td>\n",
       "      <td>0.838384</td>\n",
       "      <td>0.823793</td>\n",
       "      <td>0.011111</td>\n",
       "      <td>4</td>\n",
       "    </tr>\n",
       "    <tr>\n",
       "      <th>1</th>\n",
       "      <td>3.399864</td>\n",
       "      <td>0.294187</td>\n",
       "      <td>0.024437</td>\n",
       "      <td>0.002461</td>\n",
       "      <td>hist</td>\n",
       "      <td>500</td>\n",
       "      <td>0.125</td>\n",
       "      <td>0.25</td>\n",
       "      <td>gblinear</td>\n",
       "      <td>{'step2_algo__tree_method': 'hist', 'step2_alg...</td>\n",
       "      <td>0.811448</td>\n",
       "      <td>0.821549</td>\n",
       "      <td>0.838384</td>\n",
       "      <td>0.823793</td>\n",
       "      <td>0.011111</td>\n",
       "      <td>4</td>\n",
       "    </tr>\n",
       "  </tbody>\n",
       "</table>\n",
       "</div>"
      ],
      "text/plain": [
       "   mean_fit_time  std_fit_time  mean_score_time  std_score_time  \\\n",
       "8       5.933635      0.535526         0.021161        0.002154   \n",
       "7       8.050634      0.428029         0.022518        0.002200   \n",
       "3      25.289486      1.171854         0.537855        0.038842   \n",
       "0       4.393888      0.729186         0.024670        0.000669   \n",
       "1       3.399864      0.294187         0.024437        0.002461   \n",
       "\n",
       "  param_step2_algo__tree_method param_step2_algo__n_estimators  \\\n",
       "8                        approx                            300   \n",
       "7                        approx                            500   \n",
       "3                          hist                            300   \n",
       "0                        approx                            100   \n",
       "1                          hist                            500   \n",
       "\n",
       "  param_step2_algo__learning_rate param_step2_algo__gamma  \\\n",
       "8                           0.125                     2.0   \n",
       "7                            0.25                     2.0   \n",
       "3                            0.25                    0.25   \n",
       "0                           0.125                    0.25   \n",
       "1                           0.125                    0.25   \n",
       "\n",
       "  param_step2_algo__booster  \\\n",
       "8                    gbtree   \n",
       "7                    gbtree   \n",
       "3                      dart   \n",
       "0                  gblinear   \n",
       "1                  gblinear   \n",
       "\n",
       "                                              params  split0_test_score  \\\n",
       "8  {'step2_algo__tree_method': 'approx', 'step2_a...           0.808081   \n",
       "7  {'step2_algo__tree_method': 'approx', 'step2_a...           0.801347   \n",
       "3  {'step2_algo__tree_method': 'hist', 'step2_alg...           0.804714   \n",
       "0  {'step2_algo__tree_method': 'approx', 'step2_a...           0.811448   \n",
       "1  {'step2_algo__tree_method': 'hist', 'step2_alg...           0.811448   \n",
       "\n",
       "   split1_test_score  split2_test_score  mean_test_score  std_test_score  \\\n",
       "8           0.858586           0.838384         0.835017        0.020756   \n",
       "7           0.851852           0.841751         0.831650        0.021821   \n",
       "3           0.831650           0.838384         0.824916        0.014547   \n",
       "0           0.821549           0.838384         0.823793        0.011111   \n",
       "1           0.821549           0.838384         0.823793        0.011111   \n",
       "\n",
       "   rank_test_score  \n",
       "8                1  \n",
       "7                2  \n",
       "3                3  \n",
       "0                4  \n",
       "1                4  "
      ]
     },
     "execution_count": 5,
     "metadata": {},
     "output_type": "execute_result"
    }
   ],
   "source": [
    "from sklearn.model_selection import RandomizedSearchCV\n",
    "\n",
    "params = {\n",
    "    \"step2_algo__n_estimators\": [100, 200, 300, 400, 500],\n",
    "    \"step2_algo__learning_rate\": [0.125, 0.25, 0.5, 1., 2.],\n",
    "    \"step2_algo__booster\": [\"gbtree\", \"gblinear\", \"dart\"],\n",
    "    \"step2_algo__tree_method\": [\"exact\", \"approx\", \"hist\"],\n",
    "    \"step2_algo__gamma\": [0.125, 0.25, 0.5, 1., 2.]    \n",
    "}\n",
    "\n",
    "model = RandomizedSearchCV(estimator=model_pipeline, param_distributions=params, cv=3, scoring=\"accuracy\", n_jobs=-1, verbose=1)\n",
    "model.fit(X_train, y_train);\n",
    "\n",
    "pd.DataFrame(model.cv_results_).sort_values(by=\"rank_test_score\").iloc[:5, :]"
   ]
  },
  {
   "cell_type": "markdown",
   "id": "d1b941b8",
   "metadata": {},
   "source": [
    "# Save Model and Prediction"
   ]
  },
  {
   "cell_type": "markdown",
   "id": "e008272b",
   "metadata": {},
   "source": [
    "## Model"
   ]
  },
  {
   "cell_type": "code",
   "execution_count": 6,
   "id": "d93c3516",
   "metadata": {
    "ExecuteTime": {
     "end_time": "2022-06-03T04:28:17.930503Z",
     "start_time": "2022-06-03T04:28:17.760919Z"
    }
   },
   "outputs": [],
   "source": [
    "from datetime import datetime\n",
    "from joblib import dump, load\n",
    "\n",
    "now = datetime.now()\n",
    "now = now.strftime(\"%m_%d_%Y-%H_%M_%S\")\n",
    "model_name = str(model.estimator.named_steps.step2_algo).split(\"(\")[0]\n",
    "\n",
    "dump(value=model, filename=\"../../pretrained_models/\" + now + \"_\" + model_name +\".joblib\")\n",
    "model = load(filename=\"../../pretrained_models/\" + now + \"_\" + model_name + \".joblib\")"
   ]
  },
  {
   "cell_type": "markdown",
   "id": "1e0ff414",
   "metadata": {
    "ExecuteTime": {
     "end_time": "2022-06-03T03:05:44.137672Z",
     "start_time": "2022-06-03T03:05:44.118674Z"
    }
   },
   "source": [
    "## Prediction"
   ]
  },
  {
   "cell_type": "code",
   "execution_count": 7,
   "id": "2b35b16c",
   "metadata": {
    "ExecuteTime": {
     "end_time": "2022-06-03T04:28:18.044692Z",
     "start_time": "2022-06-03T04:28:17.933721Z"
    }
   },
   "outputs": [],
   "source": [
    "y_test_preds = model.predict(X=X_test)\n",
    "\n",
    "pred_df = pd.DataFrame({\n",
    "    \"PassengerId\": X_test.index,\n",
    "    \"Survived\": y_test_preds\n",
    "})\n",
    "\n",
    "pred_df.to_csv(\"../../submissions/\" + now + \"_\" + model_name + \".csv\", index=False)"
   ]
  },
  {
   "cell_type": "code",
   "execution_count": null,
   "id": "d26c08a4",
   "metadata": {},
   "outputs": [],
   "source": []
  }
 ],
 "metadata": {
  "kernelspec": {
   "display_name": "Python [conda env:ml] *",
   "language": "python",
   "name": "conda-env-ml-py"
  },
  "language_info": {
   "codemirror_mode": {
    "name": "ipython",
    "version": 3
   },
   "file_extension": ".py",
   "mimetype": "text/x-python",
   "name": "python",
   "nbconvert_exporter": "python",
   "pygments_lexer": "ipython3",
   "version": "3.10.4"
  },
  "nbTranslate": {
   "displayLangs": [
    "*"
   ],
   "hotkey": "alt-t",
   "langInMainMenu": true,
   "sourceLang": "en",
   "targetLang": "fr",
   "useGoogleTranslate": true
  },
  "toc": {
   "base_numbering": 1,
   "nav_menu": {},
   "number_sections": true,
   "sideBar": true,
   "skip_h1_title": false,
   "title_cell": "Table of Contents",
   "title_sidebar": "Contents",
   "toc_cell": false,
   "toc_position": {},
   "toc_section_display": true,
   "toc_window_display": true
  }
 },
 "nbformat": 4,
 "nbformat_minor": 5
}
