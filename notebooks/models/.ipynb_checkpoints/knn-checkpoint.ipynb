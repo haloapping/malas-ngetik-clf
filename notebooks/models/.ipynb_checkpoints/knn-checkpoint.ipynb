{
 "cells": [
  {
   "cell_type": "markdown",
   "id": "0e08a7d8",
   "metadata": {},
   "source": [
    "# Load Dataset"
   ]
  },
  {
   "cell_type": "code",
   "execution_count": 1,
   "id": "3021de2e",
   "metadata": {
    "ExecuteTime": {
     "end_time": "2022-06-03T03:31:33.281151Z",
     "start_time": "2022-06-03T03:31:31.580151Z"
    }
   },
   "outputs": [],
   "source": [
    "import pandas as pd\n",
    "\n",
    "train_df = pd.read_csv(\"../../datasets/feature_engineering/train.csv\", index_col=\"PassengerId\")\n",
    "test_df = pd.read_csv(\"../../datasets/feature_engineering/test.csv\", index_col=\"PassengerId\")"
   ]
  },
  {
   "cell_type": "markdown",
   "id": "7d688b9d",
   "metadata": {},
   "source": [
    "# Split Dataset (Train and Test)"
   ]
  },
  {
   "cell_type": "code",
   "execution_count": 2,
   "id": "c5b73ca9",
   "metadata": {
    "ExecuteTime": {
     "end_time": "2022-06-03T03:31:35.440151Z",
     "start_time": "2022-06-03T03:31:33.286152Z"
    }
   },
   "outputs": [
    {
     "name": "stdout",
     "output_type": "stream",
     "text": [
      "X_train shape : (891, 10)\n",
      "X_train shape : (891,)\n",
      "X_test shape  : (418, 10)\n"
     ]
    }
   ],
   "source": [
    "from sklearn.model_selection import train_test_split\n",
    "\n",
    "X_train = train_df.drop(columns=[\"age\", \"pclass\", \"name\", \"ticket\", \"cabin\", \"deck\", \"no_ticket\", \"is_alone\", \"survived\"])\n",
    "y_train = train_df.survived\n",
    "\n",
    "X_test = test_df.drop(columns=[\"age\", \"pclass\", \"name\", \"ticket\", \"cabin\", \"deck\", \"is_alone\", \"no_ticket\"])\n",
    "\n",
    "print(f\"X_train shape : {X_train.shape}\")\n",
    "print(f\"X_train shape : {y_train.shape}\")\n",
    "print(f\"X_test shape  : {X_test.shape}\")"
   ]
  },
  {
   "cell_type": "markdown",
   "id": "8a6a719a",
   "metadata": {},
   "source": [
    "## Preprocessing Data Pipeline"
   ]
  },
  {
   "cell_type": "code",
   "execution_count": 3,
   "id": "72414950",
   "metadata": {
    "ExecuteTime": {
     "end_time": "2022-06-03T03:31:35.708149Z",
     "start_time": "2022-06-03T03:31:35.444153Z"
    }
   },
   "outputs": [],
   "source": [
    "from sklearn.impute import SimpleImputer\n",
    "from sklearn.pipeline import Pipeline\n",
    "from sklearn.preprocessing import OneHotEncoder\n",
    "\n",
    "from sklearn.impute import SimpleImputer, KNNImputer\n",
    "from sklearn.pipeline import Pipeline\n",
    "from sklearn.preprocessing import MinMaxScaler, Normalizer, PowerTransformer, RobustScaler\n",
    "from sklearn.compose import ColumnTransformer, make_column_selector\n",
    "\n",
    "numerical_prep_pipeline = Pipeline(\n",
    "    steps=[\n",
    "        (\"imputer\", SimpleImputer(strategy=\"mean\")),\n",
    "        (\"scaler\", RobustScaler(quantile_range=(5., 80.)))\n",
    "    ],\n",
    "    verbose=1\n",
    ")\n",
    "\n",
    "categorical_prep_pipeline = Pipeline(\n",
    "    steps=[\n",
    "        (\"imputer\", SimpleImputer(strategy=\"most_frequent\")),\n",
    "        (\"encoder\", OneHotEncoder())\n",
    "    ],\n",
    "    verbose=1\n",
    ")\n",
    "\n",
    "preprocess_pipeline = ColumnTransformer(\n",
    "    transformers=[\n",
    "        (\"step1_numerical_pipeline\", numerical_prep_pipeline, make_column_selector(dtype_include=\"number\")),\n",
    "        (\"step2_categorical_pipeline\", categorical_prep_pipeline, make_column_selector(dtype_include=\"object\"))\n",
    "    ],\n",
    "    verbose=1, verbose_feature_names_out=True\n",
    ")"
   ]
  },
  {
   "cell_type": "markdown",
   "id": "c8e41e59",
   "metadata": {},
   "source": [
    "## Model Pipeline"
   ]
  },
  {
   "cell_type": "code",
   "execution_count": 5,
   "id": "a4fb54a4",
   "metadata": {
    "ExecuteTime": {
     "end_time": "2022-06-03T03:31:49.343154Z",
     "start_time": "2022-06-03T03:31:49.328908Z"
    }
   },
   "outputs": [],
   "source": [
    "from sklearn.neighbors import KNeighborsClassifier\n",
    "\n",
    "model_pipeline = Pipeline(\n",
    "    steps=[\n",
    "        (\"step1_preprocess_pipeline\", preprocess_pipeline),\n",
    "        (\"step2_algo\", KNeighborsClassifier(n_jobs=-1))\n",
    "    ],\n",
    "    verbose=1\n",
    ")"
   ]
  },
  {
   "cell_type": "markdown",
   "id": "3fc82dbf",
   "metadata": {},
   "source": [
    "# Train"
   ]
  },
  {
   "cell_type": "code",
   "execution_count": 6,
   "id": "74fb17dc",
   "metadata": {
    "ExecuteTime": {
     "end_time": "2022-06-03T03:32:12.677097Z",
     "start_time": "2022-06-03T03:31:51.426818Z"
    }
   },
   "outputs": [
    {
     "name": "stdout",
     "output_type": "stream",
     "text": [
      "Fitting 3 folds for each of 10 candidates, totalling 30 fits\n",
      "[Pipeline] ........... (step 1 of 2) Processing imputer, total=   0.0s\n",
      "[Pipeline] ............ (step 2 of 2) Processing scaler, total=   0.0s\n",
      "[ColumnTransformer]  (1 of 2) Processing step1_numerical_pipeline, total=   0.0s\n",
      "[Pipeline] ........... (step 1 of 2) Processing imputer, total=   0.0s\n",
      "[Pipeline] ........... (step 2 of 2) Processing encoder, total=   0.0s\n",
      "[ColumnTransformer]  (2 of 2) Processing step2_categorical_pipeline, total=   0.0s\n",
      "[Pipeline]  (step 1 of 2) Processing step1_preprocess_pipeline, total=   0.0s\n",
      "[Pipeline] ........ (step 2 of 2) Processing step2_algo, total=   0.0s\n"
     ]
    },
    {
     "data": {
      "text/html": [
       "<div>\n",
       "<style scoped>\n",
       "    .dataframe tbody tr th:only-of-type {\n",
       "        vertical-align: middle;\n",
       "    }\n",
       "\n",
       "    .dataframe tbody tr th {\n",
       "        vertical-align: top;\n",
       "    }\n",
       "\n",
       "    .dataframe thead th {\n",
       "        text-align: right;\n",
       "    }\n",
       "</style>\n",
       "<table border=\"1\" class=\"dataframe\">\n",
       "  <thead>\n",
       "    <tr style=\"text-align: right;\">\n",
       "      <th></th>\n",
       "      <th>mean_fit_time</th>\n",
       "      <th>std_fit_time</th>\n",
       "      <th>mean_score_time</th>\n",
       "      <th>std_score_time</th>\n",
       "      <th>param_step2_algo__weights</th>\n",
       "      <th>param_step2_algo__n_neighbors</th>\n",
       "      <th>param_step2_algo__leaf_size</th>\n",
       "      <th>param_step2_algo__algorithm</th>\n",
       "      <th>params</th>\n",
       "      <th>split0_test_score</th>\n",
       "      <th>split1_test_score</th>\n",
       "      <th>split2_test_score</th>\n",
       "      <th>mean_test_score</th>\n",
       "      <th>std_test_score</th>\n",
       "      <th>rank_test_score</th>\n",
       "    </tr>\n",
       "  </thead>\n",
       "  <tbody>\n",
       "    <tr>\n",
       "      <th>3</th>\n",
       "      <td>0.510813</td>\n",
       "      <td>0.030973</td>\n",
       "      <td>0.277302</td>\n",
       "      <td>0.045145</td>\n",
       "      <td>uniform</td>\n",
       "      <td>15</td>\n",
       "      <td>26</td>\n",
       "      <td>brute</td>\n",
       "      <td>{'step2_algo__weights': 'uniform', 'step2_algo...</td>\n",
       "      <td>0.787879</td>\n",
       "      <td>0.801347</td>\n",
       "      <td>0.828283</td>\n",
       "      <td>0.805836</td>\n",
       "      <td>0.016798</td>\n",
       "      <td>1</td>\n",
       "    </tr>\n",
       "    <tr>\n",
       "      <th>5</th>\n",
       "      <td>0.269996</td>\n",
       "      <td>0.102872</td>\n",
       "      <td>0.302094</td>\n",
       "      <td>0.047921</td>\n",
       "      <td>uniform</td>\n",
       "      <td>17</td>\n",
       "      <td>17</td>\n",
       "      <td>kd_tree</td>\n",
       "      <td>{'step2_algo__weights': 'uniform', 'step2_algo...</td>\n",
       "      <td>0.794613</td>\n",
       "      <td>0.794613</td>\n",
       "      <td>0.824916</td>\n",
       "      <td>0.804714</td>\n",
       "      <td>0.014285</td>\n",
       "      <td>2</td>\n",
       "    </tr>\n",
       "    <tr>\n",
       "      <th>0</th>\n",
       "      <td>1.192208</td>\n",
       "      <td>0.401224</td>\n",
       "      <td>0.322490</td>\n",
       "      <td>0.022971</td>\n",
       "      <td>uniform</td>\n",
       "      <td>13</td>\n",
       "      <td>41</td>\n",
       "      <td>kd_tree</td>\n",
       "      <td>{'step2_algo__weights': 'uniform', 'step2_algo...</td>\n",
       "      <td>0.801347</td>\n",
       "      <td>0.787879</td>\n",
       "      <td>0.824916</td>\n",
       "      <td>0.804714</td>\n",
       "      <td>0.015307</td>\n",
       "      <td>3</td>\n",
       "    </tr>\n",
       "    <tr>\n",
       "      <th>9</th>\n",
       "      <td>0.258066</td>\n",
       "      <td>0.070240</td>\n",
       "      <td>0.208204</td>\n",
       "      <td>0.024152</td>\n",
       "      <td>uniform</td>\n",
       "      <td>13</td>\n",
       "      <td>17</td>\n",
       "      <td>auto</td>\n",
       "      <td>{'step2_algo__weights': 'uniform', 'step2_algo...</td>\n",
       "      <td>0.801347</td>\n",
       "      <td>0.787879</td>\n",
       "      <td>0.821549</td>\n",
       "      <td>0.803591</td>\n",
       "      <td>0.013837</td>\n",
       "      <td>4</td>\n",
       "    </tr>\n",
       "    <tr>\n",
       "      <th>7</th>\n",
       "      <td>0.266557</td>\n",
       "      <td>0.031599</td>\n",
       "      <td>0.349546</td>\n",
       "      <td>0.026505</td>\n",
       "      <td>uniform</td>\n",
       "      <td>11</td>\n",
       "      <td>12</td>\n",
       "      <td>brute</td>\n",
       "      <td>{'step2_algo__weights': 'uniform', 'step2_algo...</td>\n",
       "      <td>0.804714</td>\n",
       "      <td>0.784512</td>\n",
       "      <td>0.818182</td>\n",
       "      <td>0.802469</td>\n",
       "      <td>0.013837</td>\n",
       "      <td>5</td>\n",
       "    </tr>\n",
       "  </tbody>\n",
       "</table>\n",
       "</div>"
      ],
      "text/plain": [
       "   mean_fit_time  std_fit_time  mean_score_time  std_score_time  \\\n",
       "3       0.510813      0.030973         0.277302        0.045145   \n",
       "5       0.269996      0.102872         0.302094        0.047921   \n",
       "0       1.192208      0.401224         0.322490        0.022971   \n",
       "9       0.258066      0.070240         0.208204        0.024152   \n",
       "7       0.266557      0.031599         0.349546        0.026505   \n",
       "\n",
       "  param_step2_algo__weights param_step2_algo__n_neighbors  \\\n",
       "3                   uniform                            15   \n",
       "5                   uniform                            17   \n",
       "0                   uniform                            13   \n",
       "9                   uniform                            13   \n",
       "7                   uniform                            11   \n",
       "\n",
       "  param_step2_algo__leaf_size param_step2_algo__algorithm  \\\n",
       "3                          26                       brute   \n",
       "5                          17                     kd_tree   \n",
       "0                          41                     kd_tree   \n",
       "9                          17                        auto   \n",
       "7                          12                       brute   \n",
       "\n",
       "                                              params  split0_test_score  \\\n",
       "3  {'step2_algo__weights': 'uniform', 'step2_algo...           0.787879   \n",
       "5  {'step2_algo__weights': 'uniform', 'step2_algo...           0.794613   \n",
       "0  {'step2_algo__weights': 'uniform', 'step2_algo...           0.801347   \n",
       "9  {'step2_algo__weights': 'uniform', 'step2_algo...           0.801347   \n",
       "7  {'step2_algo__weights': 'uniform', 'step2_algo...           0.804714   \n",
       "\n",
       "   split1_test_score  split2_test_score  mean_test_score  std_test_score  \\\n",
       "3           0.801347           0.828283         0.805836        0.016798   \n",
       "5           0.794613           0.824916         0.804714        0.014285   \n",
       "0           0.787879           0.824916         0.804714        0.015307   \n",
       "9           0.787879           0.821549         0.803591        0.013837   \n",
       "7           0.784512           0.818182         0.802469        0.013837   \n",
       "\n",
       "   rank_test_score  \n",
       "3                1  \n",
       "5                2  \n",
       "0                3  \n",
       "9                4  \n",
       "7                5  "
      ]
     },
     "execution_count": 6,
     "metadata": {},
     "output_type": "execute_result"
    }
   ],
   "source": [
    "from sklearn.model_selection import RandomizedSearchCV\n",
    "\n",
    "params = {\n",
    "    \"step2_algo__n_neighbors\": [k for k in range(1, 52, 2)],\n",
    "    \"step2_algo__weights\": [\"uniform\", \"distance\"],\n",
    "    \"step2_algo__algorithm\": [\"auto\", \"ball_tree\", \"kd_tree\", \"brute\"],\n",
    "    \"step2_algo__leaf_size\": [n for n in range(1, 50)]\n",
    "}\n",
    "\n",
    "model = RandomizedSearchCV(estimator=model_pipeline, param_distributions=params, cv=3, scoring=\"accuracy\", n_jobs=-1, verbose=1)\n",
    "model.fit(X_train, y_train);\n",
    "\n",
    "pd.DataFrame(model.cv_results_).sort_values(by=\"rank_test_score\").iloc[:5, :]"
   ]
  },
  {
   "cell_type": "markdown",
   "id": "d1b941b8",
   "metadata": {},
   "source": [
    "# Save Model and Prediction"
   ]
  },
  {
   "cell_type": "markdown",
   "id": "e008272b",
   "metadata": {},
   "source": [
    "## Model"
   ]
  },
  {
   "cell_type": "code",
   "execution_count": 7,
   "id": "d93c3516",
   "metadata": {
    "ExecuteTime": {
     "end_time": "2022-06-03T03:32:12.755262Z",
     "start_time": "2022-06-03T03:32:12.681099Z"
    }
   },
   "outputs": [],
   "source": [
    "from datetime import datetime\n",
    "from joblib import dump, load\n",
    "\n",
    "now = datetime.now()\n",
    "now = now.strftime(\"%m_%d_%Y-%H_%M_%S\")\n",
    "model_name = str(model.estimator.named_steps.step2_algo).split(\"(\")[0]\n",
    "\n",
    "dump(value=model, filename=\"../../pretrained_models/\" + now + \"_\" + model_name +\".joblib\")\n",
    "model = load(filename=\"../../pretrained_models/\" + now + \"_\" + model_name + \".joblib\")"
   ]
  },
  {
   "cell_type": "markdown",
   "id": "1e0ff414",
   "metadata": {
    "ExecuteTime": {
     "end_time": "2022-06-03T03:05:44.137672Z",
     "start_time": "2022-06-03T03:05:44.118674Z"
    }
   },
   "source": [
    "## Prediction"
   ]
  },
  {
   "cell_type": "code",
   "execution_count": 8,
   "id": "2b35b16c",
   "metadata": {
    "ExecuteTime": {
     "end_time": "2022-06-03T03:32:13.269403Z",
     "start_time": "2022-06-03T03:32:12.755262Z"
    }
   },
   "outputs": [],
   "source": [
    "y_test_preds = model.predict(X=X_test)\n",
    "\n",
    "pred_df = pd.DataFrame({\n",
    "    \"PassengerId\": X_test.index,\n",
    "    \"Survived\": y_test_preds\n",
    "})\n",
    "\n",
    "pred_df.to_csv(\"../../submissions/\" + now + \"_\" + model_name + \".csv\", index=False)"
   ]
  }
 ],
 "metadata": {
  "kernelspec": {
   "display_name": "Python [conda env:ml] *",
   "language": "python",
   "name": "conda-env-ml-py"
  },
  "language_info": {
   "codemirror_mode": {
    "name": "ipython",
    "version": 3
   },
   "file_extension": ".py",
   "mimetype": "text/x-python",
   "name": "python",
   "nbconvert_exporter": "python",
   "pygments_lexer": "ipython3",
   "version": "3.10.4"
  },
  "nbTranslate": {
   "displayLangs": [
    "*"
   ],
   "hotkey": "alt-t",
   "langInMainMenu": true,
   "sourceLang": "en",
   "targetLang": "fr",
   "useGoogleTranslate": true
  },
  "toc": {
   "base_numbering": 1,
   "nav_menu": {},
   "number_sections": true,
   "sideBar": true,
   "skip_h1_title": false,
   "title_cell": "Table of Contents",
   "title_sidebar": "Contents",
   "toc_cell": false,
   "toc_position": {},
   "toc_section_display": true,
   "toc_window_display": true
  }
 },
 "nbformat": 4,
 "nbformat_minor": 5
}
