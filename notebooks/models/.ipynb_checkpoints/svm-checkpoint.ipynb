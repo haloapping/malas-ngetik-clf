{
 "cells": [
  {
   "cell_type": "markdown",
   "id": "0e08a7d8",
   "metadata": {},
   "source": [
    "# Load Dataset"
   ]
  },
  {
   "cell_type": "code",
   "execution_count": 1,
   "id": "3021de2e",
   "metadata": {
    "ExecuteTime": {
     "end_time": "2022-06-03T03:34:45.416575Z",
     "start_time": "2022-06-03T03:34:44.555433Z"
    }
   },
   "outputs": [],
   "source": [
    "import pandas as pd\n",
    "\n",
    "train_df = pd.read_csv(\"../../datasets/feature_engineering/train.csv\", index_col=\"PassengerId\")\n",
    "test_df = pd.read_csv(\"../../datasets/feature_engineering/test.csv\", index_col=\"PassengerId\")"
   ]
  },
  {
   "cell_type": "markdown",
   "id": "7d688b9d",
   "metadata": {},
   "source": [
    "# Split Dataset (Train and Test)"
   ]
  },
  {
   "cell_type": "code",
   "execution_count": 2,
   "id": "c5b73ca9",
   "metadata": {
    "ExecuteTime": {
     "end_time": "2022-06-03T03:34:46.565061Z",
     "start_time": "2022-06-03T03:34:46.546027Z"
    }
   },
   "outputs": [
    {
     "name": "stdout",
     "output_type": "stream",
     "text": [
      "X_train shape : (891, 10)\n",
      "X_train shape : (891,)\n",
      "X_test shape  : (418, 10)\n"
     ]
    }
   ],
   "source": [
    "from sklearn.model_selection import train_test_split\n",
    "\n",
    "X_train = train_df.drop(columns=[\"age\", \"pclass\", \"name\", \"ticket\", \"cabin\", \"deck\", \"no_ticket\", \"is_alone\", \"survived\"])\n",
    "y_train = train_df.survived\n",
    "\n",
    "X_test = test_df.drop(columns=[\"age\", \"pclass\", \"name\", \"ticket\", \"cabin\", \"deck\", \"is_alone\", \"no_ticket\"])\n",
    "\n",
    "print(f\"X_train shape : {X_train.shape}\")\n",
    "print(f\"X_train shape : {y_train.shape}\")\n",
    "print(f\"X_test shape  : {X_test.shape}\")"
   ]
  },
  {
   "cell_type": "markdown",
   "id": "8a6a719a",
   "metadata": {},
   "source": [
    "## Preprocessing Data Pipeline"
   ]
  },
  {
   "cell_type": "code",
   "execution_count": 3,
   "id": "72414950",
   "metadata": {
    "ExecuteTime": {
     "end_time": "2022-06-03T03:34:48.320473Z",
     "start_time": "2022-06-03T03:34:48.221205Z"
    }
   },
   "outputs": [],
   "source": [
    "from sklearn.impute import SimpleImputer\n",
    "from sklearn.pipeline import Pipeline\n",
    "from sklearn.preprocessing import OneHotEncoder\n",
    "\n",
    "from sklearn.impute import SimpleImputer, KNNImputer\n",
    "from sklearn.pipeline import Pipeline\n",
    "from sklearn.preprocessing import MinMaxScaler, Normalizer, PowerTransformer, RobustScaler\n",
    "from sklearn.compose import ColumnTransformer, make_column_selector\n",
    "\n",
    "numerical_prep_pipeline = Pipeline(\n",
    "    steps=[\n",
    "        (\"imputer\", SimpleImputer(strategy=\"mean\")),\n",
    "        (\"scaler\", RobustScaler(quantile_range=(5., 80.)))\n",
    "    ],\n",
    "    verbose=1\n",
    ")\n",
    "\n",
    "categorical_prep_pipeline = Pipeline(\n",
    "    steps=[\n",
    "        (\"imputer\", SimpleImputer(strategy=\"most_frequent\")),\n",
    "        (\"encoder\", OneHotEncoder())\n",
    "    ],\n",
    "    verbose=1\n",
    ")\n",
    "\n",
    "preprocess_pipeline = ColumnTransformer(\n",
    "    transformers=[\n",
    "        (\"step1_numerical_pipeline\", numerical_prep_pipeline, make_column_selector(dtype_include=\"number\")),\n",
    "        (\"step2_categorical_pipeline\", categorical_prep_pipeline, make_column_selector(dtype_include=\"object\"))\n",
    "    ],\n",
    "    verbose=1, verbose_feature_names_out=True\n",
    ")"
   ]
  },
  {
   "cell_type": "markdown",
   "id": "c8e41e59",
   "metadata": {},
   "source": [
    "## Model Pipeline"
   ]
  },
  {
   "cell_type": "code",
   "execution_count": 4,
   "id": "a4fb54a4",
   "metadata": {
    "ExecuteTime": {
     "end_time": "2022-06-03T03:34:51.324268Z",
     "start_time": "2022-06-03T03:34:51.310457Z"
    }
   },
   "outputs": [],
   "source": [
    "from sklearn.svm import SVC\n",
    "\n",
    "model_pipeline = Pipeline(\n",
    "    steps=[\n",
    "        (\"step1_preprocess_pipeline\", preprocess_pipeline),\n",
    "        (\"step2_algo\", SVC())\n",
    "    ],\n",
    "    verbose=1\n",
    ")"
   ]
  },
  {
   "cell_type": "markdown",
   "id": "3fc82dbf",
   "metadata": {},
   "source": [
    "# Train"
   ]
  },
  {
   "cell_type": "code",
   "execution_count": 7,
   "id": "74fb17dc",
   "metadata": {
    "ExecuteTime": {
     "end_time": "2022-06-03T03:36:01.604417Z",
     "start_time": "2022-06-03T03:35:55.247248Z"
    }
   },
   "outputs": [
    {
     "name": "stdout",
     "output_type": "stream",
     "text": [
      "Fitting 3 folds for each of 10 candidates, totalling 30 fits\n"
     ]
    },
    {
     "name": "stderr",
     "output_type": "stream",
     "text": [
      "C:\\ProgramData\\Miniconda3\\envs\\ml\\lib\\site-packages\\sklearn\\model_selection\\_validation.py:372: FitFailedWarning: \n",
      "3 fits failed out of a total of 30.\n",
      "The score on these train-test partitions for these parameters will be set to nan.\n",
      "If these failures are not expected, you can try to debug them by setting error_score='raise'.\n",
      "\n",
      "Below are more details about the failures:\n",
      "--------------------------------------------------------------------------------\n",
      "3 fits failed with the following error:\n",
      "Traceback (most recent call last):\n",
      "  File \"C:\\ProgramData\\Miniconda3\\envs\\ml\\lib\\site-packages\\sklearn\\model_selection\\_validation.py\", line 680, in _fit_and_score\n",
      "    estimator.fit(X_train, y_train, **fit_params)\n",
      "  File \"C:\\ProgramData\\Miniconda3\\envs\\ml\\lib\\site-packages\\sklearn\\pipeline.py\", line 394, in fit\n",
      "    self._final_estimator.fit(Xt, y, **fit_params_last_step)\n",
      "  File \"C:\\ProgramData\\Miniconda3\\envs\\ml\\lib\\site-packages\\sklearn\\svm\\_base.py\", line 215, in fit\n",
      "    raise ValueError(\n",
      "ValueError: Precomputed matrix must be a square matrix. Input is a 594x16 matrix.\n",
      "\n",
      "  warnings.warn(some_fits_failed_message, FitFailedWarning)\n",
      "C:\\ProgramData\\Miniconda3\\envs\\ml\\lib\\site-packages\\sklearn\\model_selection\\_search.py:969: UserWarning: One or more of the test scores are non-finite: [0.82716049 0.82267116 0.82042649 0.71043771 0.82491582 0.82491582\n",
      " 0.82267116 0.70482604 0.68686869        nan]\n",
      "  warnings.warn(\n"
     ]
    },
    {
     "name": "stdout",
     "output_type": "stream",
     "text": [
      "[Pipeline] ........... (step 1 of 2) Processing imputer, total=   0.0s\n",
      "[Pipeline] ............ (step 2 of 2) Processing scaler, total=   0.0s\n",
      "[ColumnTransformer]  (1 of 2) Processing step1_numerical_pipeline, total=   0.0s\n",
      "[Pipeline] ........... (step 1 of 2) Processing imputer, total=   0.0s\n",
      "[Pipeline] ........... (step 2 of 2) Processing encoder, total=   0.0s\n",
      "[ColumnTransformer]  (2 of 2) Processing step2_categorical_pipeline, total=   0.0s\n",
      "[Pipeline]  (step 1 of 2) Processing step1_preprocess_pipeline, total=   0.1s\n",
      "[Pipeline] ........ (step 2 of 2) Processing step2_algo, total=   0.3s\n"
     ]
    },
    {
     "data": {
      "text/html": [
       "<div>\n",
       "<style scoped>\n",
       "    .dataframe tbody tr th:only-of-type {\n",
       "        vertical-align: middle;\n",
       "    }\n",
       "\n",
       "    .dataframe tbody tr th {\n",
       "        vertical-align: top;\n",
       "    }\n",
       "\n",
       "    .dataframe thead th {\n",
       "        text-align: right;\n",
       "    }\n",
       "</style>\n",
       "<table border=\"1\" class=\"dataframe\">\n",
       "  <thead>\n",
       "    <tr style=\"text-align: right;\">\n",
       "      <th></th>\n",
       "      <th>mean_fit_time</th>\n",
       "      <th>std_fit_time</th>\n",
       "      <th>mean_score_time</th>\n",
       "      <th>std_score_time</th>\n",
       "      <th>param_step2_algo__shrinking</th>\n",
       "      <th>param_step2_algo__probability</th>\n",
       "      <th>param_step2_algo__kernel</th>\n",
       "      <th>param_step2_algo__gamma</th>\n",
       "      <th>param_step2_algo__degree</th>\n",
       "      <th>param_step2_algo__C</th>\n",
       "      <th>params</th>\n",
       "      <th>split0_test_score</th>\n",
       "      <th>split1_test_score</th>\n",
       "      <th>split2_test_score</th>\n",
       "      <th>mean_test_score</th>\n",
       "      <th>std_test_score</th>\n",
       "      <th>rank_test_score</th>\n",
       "    </tr>\n",
       "  </thead>\n",
       "  <tbody>\n",
       "    <tr>\n",
       "      <th>0</th>\n",
       "      <td>1.183438</td>\n",
       "      <td>0.283374</td>\n",
       "      <td>0.023688</td>\n",
       "      <td>0.001297</td>\n",
       "      <td>True</td>\n",
       "      <td>True</td>\n",
       "      <td>linear</td>\n",
       "      <td>auto</td>\n",
       "      <td>4</td>\n",
       "      <td>0.125</td>\n",
       "      <td>{'step2_algo__shrinking': True, 'step2_algo__p...</td>\n",
       "      <td>0.824916</td>\n",
       "      <td>0.835017</td>\n",
       "      <td>0.821549</td>\n",
       "      <td>0.827160</td>\n",
       "      <td>0.005723</td>\n",
       "      <td>1</td>\n",
       "    </tr>\n",
       "    <tr>\n",
       "      <th>4</th>\n",
       "      <td>1.564838</td>\n",
       "      <td>0.125805</td>\n",
       "      <td>0.024100</td>\n",
       "      <td>0.002785</td>\n",
       "      <td>False</td>\n",
       "      <td>True</td>\n",
       "      <td>linear</td>\n",
       "      <td>auto</td>\n",
       "      <td>2</td>\n",
       "      <td>0.25</td>\n",
       "      <td>{'step2_algo__shrinking': False, 'step2_algo__...</td>\n",
       "      <td>0.821549</td>\n",
       "      <td>0.835017</td>\n",
       "      <td>0.818182</td>\n",
       "      <td>0.824916</td>\n",
       "      <td>0.007274</td>\n",
       "      <td>2</td>\n",
       "    </tr>\n",
       "    <tr>\n",
       "      <th>5</th>\n",
       "      <td>1.547280</td>\n",
       "      <td>0.304983</td>\n",
       "      <td>0.022534</td>\n",
       "      <td>0.002839</td>\n",
       "      <td>False</td>\n",
       "      <td>False</td>\n",
       "      <td>linear</td>\n",
       "      <td>auto</td>\n",
       "      <td>2</td>\n",
       "      <td>0.25</td>\n",
       "      <td>{'step2_algo__shrinking': False, 'step2_algo__...</td>\n",
       "      <td>0.821549</td>\n",
       "      <td>0.835017</td>\n",
       "      <td>0.818182</td>\n",
       "      <td>0.824916</td>\n",
       "      <td>0.007274</td>\n",
       "      <td>2</td>\n",
       "    </tr>\n",
       "    <tr>\n",
       "      <th>1</th>\n",
       "      <td>1.173384</td>\n",
       "      <td>0.320296</td>\n",
       "      <td>0.024058</td>\n",
       "      <td>0.001398</td>\n",
       "      <td>True</td>\n",
       "      <td>True</td>\n",
       "      <td>linear</td>\n",
       "      <td>auto</td>\n",
       "      <td>4</td>\n",
       "      <td>2.0</td>\n",
       "      <td>{'step2_algo__shrinking': True, 'step2_algo__p...</td>\n",
       "      <td>0.818182</td>\n",
       "      <td>0.831650</td>\n",
       "      <td>0.818182</td>\n",
       "      <td>0.822671</td>\n",
       "      <td>0.006349</td>\n",
       "      <td>4</td>\n",
       "    </tr>\n",
       "    <tr>\n",
       "      <th>6</th>\n",
       "      <td>1.577332</td>\n",
       "      <td>0.341540</td>\n",
       "      <td>0.023604</td>\n",
       "      <td>0.001774</td>\n",
       "      <td>True</td>\n",
       "      <td>True</td>\n",
       "      <td>linear</td>\n",
       "      <td>auto</td>\n",
       "      <td>3</td>\n",
       "      <td>1.0</td>\n",
       "      <td>{'step2_algo__shrinking': True, 'step2_algo__p...</td>\n",
       "      <td>0.818182</td>\n",
       "      <td>0.831650</td>\n",
       "      <td>0.818182</td>\n",
       "      <td>0.822671</td>\n",
       "      <td>0.006349</td>\n",
       "      <td>4</td>\n",
       "    </tr>\n",
       "  </tbody>\n",
       "</table>\n",
       "</div>"
      ],
      "text/plain": [
       "   mean_fit_time  std_fit_time  mean_score_time  std_score_time  \\\n",
       "0       1.183438      0.283374         0.023688        0.001297   \n",
       "4       1.564838      0.125805         0.024100        0.002785   \n",
       "5       1.547280      0.304983         0.022534        0.002839   \n",
       "1       1.173384      0.320296         0.024058        0.001398   \n",
       "6       1.577332      0.341540         0.023604        0.001774   \n",
       "\n",
       "  param_step2_algo__shrinking param_step2_algo__probability  \\\n",
       "0                        True                          True   \n",
       "4                       False                          True   \n",
       "5                       False                         False   \n",
       "1                        True                          True   \n",
       "6                        True                          True   \n",
       "\n",
       "  param_step2_algo__kernel param_step2_algo__gamma param_step2_algo__degree  \\\n",
       "0                   linear                    auto                        4   \n",
       "4                   linear                    auto                        2   \n",
       "5                   linear                    auto                        2   \n",
       "1                   linear                    auto                        4   \n",
       "6                   linear                    auto                        3   \n",
       "\n",
       "  param_step2_algo__C                                             params  \\\n",
       "0               0.125  {'step2_algo__shrinking': True, 'step2_algo__p...   \n",
       "4                0.25  {'step2_algo__shrinking': False, 'step2_algo__...   \n",
       "5                0.25  {'step2_algo__shrinking': False, 'step2_algo__...   \n",
       "1                 2.0  {'step2_algo__shrinking': True, 'step2_algo__p...   \n",
       "6                 1.0  {'step2_algo__shrinking': True, 'step2_algo__p...   \n",
       "\n",
       "   split0_test_score  split1_test_score  split2_test_score  mean_test_score  \\\n",
       "0           0.824916           0.835017           0.821549         0.827160   \n",
       "4           0.821549           0.835017           0.818182         0.824916   \n",
       "5           0.821549           0.835017           0.818182         0.824916   \n",
       "1           0.818182           0.831650           0.818182         0.822671   \n",
       "6           0.818182           0.831650           0.818182         0.822671   \n",
       "\n",
       "   std_test_score  rank_test_score  \n",
       "0        0.005723                1  \n",
       "4        0.007274                2  \n",
       "5        0.007274                2  \n",
       "1        0.006349                4  \n",
       "6        0.006349                4  "
      ]
     },
     "execution_count": 7,
     "metadata": {},
     "output_type": "execute_result"
    }
   ],
   "source": [
    "from sklearn.model_selection import RandomizedSearchCV\n",
    "\n",
    "params = {\n",
    "    \"step2_algo__C\": [0.125, 0.25, 0.1, 0.5, 1., 2.],\n",
    "    \"step2_algo__kernel\": [\"linear\", \"poly\", \"rbf\", \"sigmoid\", \"precomputed\"],\n",
    "    \"step2_algo__degree\": [2, 3, 4],\n",
    "    \"step2_algo__gamma\": [\"scale\", \"auto\"],\n",
    "    \"step2_algo__shrinking\": [True, False],\n",
    "    \"step2_algo__probability\": [True, False]\n",
    "}\n",
    "\n",
    "model = RandomizedSearchCV(estimator=model_pipeline, param_distributions=params, cv=3, scoring=\"accuracy\", n_jobs=-1, verbose=1)\n",
    "model.fit(X_train, y_train)\n",
    "\n",
    "pd.DataFrame(model.cv_results_).sort_values(by=\"rank_test_score\").iloc[:5, :]"
   ]
  },
  {
   "cell_type": "markdown",
   "id": "d1b941b8",
   "metadata": {},
   "source": [
    "# Save Model and Prediction"
   ]
  },
  {
   "cell_type": "markdown",
   "id": "e008272b",
   "metadata": {},
   "source": [
    "## Model"
   ]
  },
  {
   "cell_type": "code",
   "execution_count": 8,
   "id": "d93c3516",
   "metadata": {
    "ExecuteTime": {
     "end_time": "2022-06-03T03:36:01.702257Z",
     "start_time": "2022-06-03T03:36:01.609367Z"
    }
   },
   "outputs": [],
   "source": [
    "from datetime import datetime\n",
    "from joblib import dump, load\n",
    "\n",
    "now = datetime.now()\n",
    "now = now.strftime(\"%m_%d_%Y-%H_%M_%S\")\n",
    "model_name = str(model.estimator.named_steps.step2_algo).split(\"(\")[0]\n",
    "\n",
    "dump(value=model, filename=\"../../pretrained_models/\" + now + \"_\" + model_name +\".joblib\")\n",
    "model = load(filename=\"../../pretrained_models/\" + now + \"_\" + model_name + \".joblib\")"
   ]
  },
  {
   "cell_type": "markdown",
   "id": "1e0ff414",
   "metadata": {
    "ExecuteTime": {
     "end_time": "2022-06-03T03:05:44.137672Z",
     "start_time": "2022-06-03T03:05:44.118674Z"
    }
   },
   "source": [
    "## Prediction"
   ]
  },
  {
   "cell_type": "code",
   "execution_count": 9,
   "id": "2b35b16c",
   "metadata": {
    "ExecuteTime": {
     "end_time": "2022-06-03T03:36:01.759156Z",
     "start_time": "2022-06-03T03:36:01.705323Z"
    }
   },
   "outputs": [],
   "source": [
    "y_test_preds = model.predict(X=X_test)\n",
    "\n",
    "pred_df = pd.DataFrame({\n",
    "    \"PassengerId\": X_test.index,\n",
    "    \"Survived\": y_test_preds\n",
    "})\n",
    "\n",
    "pred_df.to_csv(\"../../submissions/\" + now + \"_\" + model_name + \".csv\", index=False)"
   ]
  },
  {
   "cell_type": "code",
   "execution_count": null,
   "id": "d26c08a4",
   "metadata": {},
   "outputs": [],
   "source": []
  }
 ],
 "metadata": {
  "kernelspec": {
   "display_name": "Python [conda env:ml] *",
   "language": "python",
   "name": "conda-env-ml-py"
  },
  "language_info": {
   "codemirror_mode": {
    "name": "ipython",
    "version": 3
   },
   "file_extension": ".py",
   "mimetype": "text/x-python",
   "name": "python",
   "nbconvert_exporter": "python",
   "pygments_lexer": "ipython3",
   "version": "3.10.4"
  },
  "nbTranslate": {
   "displayLangs": [
    "*"
   ],
   "hotkey": "alt-t",
   "langInMainMenu": true,
   "sourceLang": "en",
   "targetLang": "fr",
   "useGoogleTranslate": true
  },
  "toc": {
   "base_numbering": 1,
   "nav_menu": {},
   "number_sections": true,
   "sideBar": true,
   "skip_h1_title": false,
   "title_cell": "Table of Contents",
   "title_sidebar": "Contents",
   "toc_cell": false,
   "toc_position": {},
   "toc_section_display": true,
   "toc_window_display": true
  }
 },
 "nbformat": 4,
 "nbformat_minor": 5
}
