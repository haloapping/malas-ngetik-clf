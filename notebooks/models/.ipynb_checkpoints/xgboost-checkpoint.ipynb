{
 "cells": [
  {
   "cell_type": "markdown",
   "id": "0e08a7d8",
   "metadata": {},
   "source": [
    "# Load Dataset"
   ]
  },
  {
   "cell_type": "code",
   "execution_count": 2,
   "id": "3021de2e",
   "metadata": {
    "ExecuteTime": {
     "end_time": "2022-06-03T03:42:03.689454Z",
     "start_time": "2022-06-03T03:42:03.644978Z"
    }
   },
   "outputs": [],
   "source": [
    "import pandas as pd\n",
    "\n",
    "train_df = pd.read_csv(\"../../datasets/feature_engineering/train.csv\", index_col=\"PassengerId\")\n",
    "test_df = pd.read_csv(\"../../datasets/feature_engineering/test.csv\", index_col=\"PassengerId\")"
   ]
  },
  {
   "cell_type": "markdown",
   "id": "7d688b9d",
   "metadata": {},
   "source": [
    "# Split Dataset (Train and Test)"
   ]
  },
  {
   "cell_type": "code",
   "execution_count": 3,
   "id": "c5b73ca9",
   "metadata": {
    "ExecuteTime": {
     "end_time": "2022-06-03T03:42:03.952443Z",
     "start_time": "2022-06-03T03:42:03.926454Z"
    }
   },
   "outputs": [
    {
     "name": "stdout",
     "output_type": "stream",
     "text": [
      "X_train shape : (891, 10)\n",
      "X_train shape : (891,)\n",
      "X_test shape  : (418, 10)\n"
     ]
    }
   ],
   "source": [
    "from sklearn.model_selection import train_test_split\n",
    "\n",
    "X_train = train_df.drop(columns=[\"age\", \"pclass\", \"name\", \"ticket\", \"cabin\", \"deck\", \"no_ticket\", \"is_alone\", \"survived\"])\n",
    "y_train = train_df.survived\n",
    "\n",
    "X_test = test_df.drop(columns=[\"age\", \"pclass\", \"name\", \"ticket\", \"cabin\", \"deck\", \"is_alone\", \"no_ticket\"])\n",
    "\n",
    "print(f\"X_train shape : {X_train.shape}\")\n",
    "print(f\"X_train shape : {y_train.shape}\")\n",
    "print(f\"X_test shape  : {X_test.shape}\")"
   ]
  },
  {
   "cell_type": "markdown",
   "id": "8a6a719a",
   "metadata": {},
   "source": [
    "## Preprocessing Data Pipeline"
   ]
  },
  {
   "cell_type": "code",
   "execution_count": 4,
   "id": "72414950",
   "metadata": {
    "ExecuteTime": {
     "end_time": "2022-06-03T03:42:04.949198Z",
     "start_time": "2022-06-03T03:42:04.789123Z"
    }
   },
   "outputs": [],
   "source": [
    "from sklearn.impute import SimpleImputer\n",
    "from sklearn.pipeline import Pipeline\n",
    "from sklearn.preprocessing import OneHotEncoder\n",
    "\n",
    "from sklearn.impute import SimpleImputer, KNNImputer\n",
    "from sklearn.pipeline import Pipeline\n",
    "from sklearn.preprocessing import MinMaxScaler, Normalizer, PowerTransformer, RobustScaler\n",
    "from sklearn.compose import ColumnTransformer, make_column_selector\n",
    "\n",
    "numerical_prep_pipeline = Pipeline(\n",
    "    steps=[\n",
    "        (\"imputer\", SimpleImputer(strategy=\"mean\")),\n",
    "        (\"scaler\", RobustScaler(quantile_range=(5., 80.)))\n",
    "    ],\n",
    "    verbose=1\n",
    ")\n",
    "\n",
    "categorical_prep_pipeline = Pipeline(\n",
    "    steps=[\n",
    "        (\"imputer\", SimpleImputer(strategy=\"most_frequent\")),\n",
    "        (\"encoder\", OneHotEncoder())\n",
    "    ],\n",
    "    verbose=1\n",
    ")\n",
    "\n",
    "preprocess_pipeline = ColumnTransformer(\n",
    "    transformers=[\n",
    "        (\"step1_numerical_pipeline\", numerical_prep_pipeline, make_column_selector(dtype_include=\"number\")),\n",
    "        (\"step2_categorical_pipeline\", categorical_prep_pipeline, make_column_selector(dtype_include=\"object\"))\n",
    "    ],\n",
    "    verbose=1, verbose_feature_names_out=True\n",
    ")"
   ]
  },
  {
   "cell_type": "markdown",
   "id": "c8e41e59",
   "metadata": {},
   "source": [
    "## Model Pipeline"
   ]
  },
  {
   "cell_type": "code",
   "execution_count": 5,
   "id": "a4fb54a4",
   "metadata": {
    "ExecuteTime": {
     "end_time": "2022-06-03T03:42:06.015618Z",
     "start_time": "2022-06-03T03:42:05.997612Z"
    }
   },
   "outputs": [],
   "source": [
    "from xgboost import XGBClassifier\n",
    "\n",
    "model_pipeline = Pipeline(\n",
    "    steps=[\n",
    "        (\"step1_preprocess_pipeline\", preprocess_pipeline),\n",
    "        (\"step2_algo\", XGBClassifier(n_jobs=-1))\n",
    "    ],\n",
    "    verbose=1\n",
    ")"
   ]
  },
  {
   "cell_type": "markdown",
   "id": "3fc82dbf",
   "metadata": {},
   "source": [
    "# Train"
   ]
  },
  {
   "cell_type": "code",
   "execution_count": 6,
   "id": "74fb17dc",
   "metadata": {
    "ExecuteTime": {
     "end_time": "2022-06-03T03:59:15.441961Z",
     "start_time": "2022-06-03T03:42:11.168347Z"
    }
   },
   "outputs": [
    {
     "name": "stdout",
     "output_type": "stream",
     "text": [
      "Fitting 3 folds for each of 10 candidates, totalling 30 fits\n",
      "[Pipeline] ........... (step 1 of 2) Processing imputer, total=   0.0s\n",
      "[Pipeline] ............ (step 2 of 2) Processing scaler, total=   0.0s\n",
      "[ColumnTransformer]  (1 of 2) Processing step1_numerical_pipeline, total=   0.0s\n",
      "[Pipeline] ........... (step 1 of 2) Processing imputer, total=   0.0s\n",
      "[Pipeline] ........... (step 2 of 2) Processing encoder, total=   0.0s\n",
      "[ColumnTransformer]  (2 of 2) Processing step2_categorical_pipeline, total=   0.0s\n",
      "[Pipeline]  (step 1 of 2) Processing step1_preprocess_pipeline, total=   0.1s\n"
     ]
    },
    {
     "name": "stderr",
     "output_type": "stream",
     "text": [
      "\n",
      "KeyboardInterrupt\n",
      "\n"
     ]
    }
   ],
   "source": [
    "from sklearn.model_selection import RandomizedSearchCV\n",
    "\n",
    "params = {\n",
    "    \"step2_algo__n_estimators\": [100, 200, 300, 400, 500],\n",
    "    \"step2_algo__learning_rate\": [0.125, 0.25, 0.5, 1., 2.],\n",
    "    \"step2_algo__booster\": [\"gbtree\", \"gblinear\", \"dart\"],\n",
    "    \"step2_algo__tree_method\": [\"exact\", \"approx\", \"hist\"],\n",
    "    \"step2_algo__gamma\": [0.125, 0.25, 0.5, 1., 2.]    \n",
    "}\n",
    "\n",
    "model = RandomizedSearchCV(estimator=model_pipeline, param_distributions=params, cv=3, scoring=\"accuracy\", n_jobs=-1, verbose=1)\n",
    "model.fit(X_train, y_train);\n",
    "\n",
    "pd.DataFrame(model.cv_results_).sort_values(by=\"rank_test_score\").iloc[:5, :]"
   ]
  },
  {
   "cell_type": "markdown",
   "id": "d1b941b8",
   "metadata": {},
   "source": [
    "# Save Model and Prediction"
   ]
  },
  {
   "cell_type": "markdown",
   "id": "e008272b",
   "metadata": {},
   "source": [
    "## Model"
   ]
  },
  {
   "cell_type": "code",
   "execution_count": null,
   "id": "d93c3516",
   "metadata": {
    "ExecuteTime": {
     "end_time": "2022-06-03T03:59:15.447959Z",
     "start_time": "2022-06-03T03:59:15.447959Z"
    }
   },
   "outputs": [],
   "source": [
    "from datetime import datetime\n",
    "from joblib import dump, load\n",
    "\n",
    "now = datetime.now()\n",
    "now = now.strftime(\"%m_%d_%Y-%H_%M_%S\")\n",
    "model_name = str(model.estimator.named_steps.step2_algo).split(\"(\")[0]\n",
    "\n",
    "dump(value=model, filename=\"../../pretrained_models/\" + now + \"_\" + model_name +\".joblib\")\n",
    "model = load(filename=\"../../pretrained_models/\" + now + \"_\" + model_name + \".joblib\")"
   ]
  },
  {
   "cell_type": "markdown",
   "id": "1e0ff414",
   "metadata": {
    "ExecuteTime": {
     "end_time": "2022-06-03T03:05:44.137672Z",
     "start_time": "2022-06-03T03:05:44.118674Z"
    }
   },
   "source": [
    "## Prediction"
   ]
  },
  {
   "cell_type": "code",
   "execution_count": null,
   "id": "2b35b16c",
   "metadata": {
    "ExecuteTime": {
     "end_time": "2022-06-03T03:59:15.450021Z",
     "start_time": "2022-06-03T03:59:15.450021Z"
    }
   },
   "outputs": [],
   "source": [
    "y_test_preds = model.predict(X=X_test)\n",
    "\n",
    "pred_df = pd.DataFrame({\n",
    "    \"PassengerId\": X_test.index,\n",
    "    \"Survived\": y_test_preds\n",
    "})\n",
    "\n",
    "pred_df.to_csv(\"../../submissions/\" + now + \"_\" + model_name + \".csv\", index=False)"
   ]
  },
  {
   "cell_type": "code",
   "execution_count": null,
   "id": "d26c08a4",
   "metadata": {},
   "outputs": [],
   "source": []
  }
 ],
 "metadata": {
  "kernelspec": {
   "display_name": "Python [conda env:ml] *",
   "language": "python",
   "name": "conda-env-ml-py"
  },
  "language_info": {
   "codemirror_mode": {
    "name": "ipython",
    "version": 3
   },
   "file_extension": ".py",
   "mimetype": "text/x-python",
   "name": "python",
   "nbconvert_exporter": "python",
   "pygments_lexer": "ipython3",
   "version": "3.10.4"
  },
  "nbTranslate": {
   "displayLangs": [
    "*"
   ],
   "hotkey": "alt-t",
   "langInMainMenu": true,
   "sourceLang": "en",
   "targetLang": "fr",
   "useGoogleTranslate": true
  },
  "toc": {
   "base_numbering": 1,
   "nav_menu": {},
   "number_sections": true,
   "sideBar": true,
   "skip_h1_title": false,
   "title_cell": "Table of Contents",
   "title_sidebar": "Contents",
   "toc_cell": false,
   "toc_position": {},
   "toc_section_display": true,
   "toc_window_display": true
  }
 },
 "nbformat": 4,
 "nbformat_minor": 5
}
