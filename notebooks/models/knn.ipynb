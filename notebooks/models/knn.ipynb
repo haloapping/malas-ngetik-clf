{
 "cells": [
  {
   "cell_type": "markdown",
   "id": "0e08a7d8",
   "metadata": {},
   "source": [
    "# Load Dataset"
   ]
  },
  {
   "cell_type": "code",
   "execution_count": 1,
   "id": "3021de2e",
   "metadata": {
    "ExecuteTime": {
     "end_time": "2022-06-03T04:21:33.743173Z",
     "start_time": "2022-06-03T04:21:29.658195Z"
    }
   },
   "outputs": [],
   "source": [
    "import pandas as pd\n",
    "\n",
    "train_df = pd.read_csv(\"../../datasets/feature_engineering/train.csv\", index_col=\"PassengerId\")\n",
    "test_df = pd.read_csv(\"../../datasets/feature_engineering/test.csv\", index_col=\"PassengerId\")"
   ]
  },
  {
   "cell_type": "markdown",
   "id": "7d688b9d",
   "metadata": {},
   "source": [
    "# Split Dataset (Train and Test)"
   ]
  },
  {
   "cell_type": "code",
   "execution_count": 2,
   "id": "c5b73ca9",
   "metadata": {
    "ExecuteTime": {
     "end_time": "2022-06-03T04:21:36.655571Z",
     "start_time": "2022-06-03T04:21:33.750132Z"
    }
   },
   "outputs": [
    {
     "name": "stdout",
     "output_type": "stream",
     "text": [
      "X_train shape : (891, 10)\n",
      "X_train shape : (891,)\n",
      "X_test shape  : (418, 10)\n"
     ]
    }
   ],
   "source": [
    "from sklearn.model_selection import train_test_split\n",
    "\n",
    "X_train = train_df.drop(columns=[\"age\", \"pclass\", \"name\", \"ticket\", \"cabin\", \"deck\", \"no_ticket\", \"is_alone\", \"survived\"])\n",
    "y_train = train_df.survived\n",
    "\n",
    "X_test = test_df.drop(columns=[\"age\", \"pclass\", \"name\", \"ticket\", \"cabin\", \"deck\", \"is_alone\", \"no_ticket\"])\n",
    "\n",
    "print(f\"X_train shape : {X_train.shape}\")\n",
    "print(f\"X_train shape : {y_train.shape}\")\n",
    "print(f\"X_test shape  : {X_test.shape}\")"
   ]
  },
  {
   "cell_type": "markdown",
   "id": "8a6a719a",
   "metadata": {},
   "source": [
    "## Preprocessing Data Pipeline"
   ]
  },
  {
   "cell_type": "code",
   "execution_count": 3,
   "id": "72414950",
   "metadata": {
    "ExecuteTime": {
     "end_time": "2022-06-03T04:21:36.860453Z",
     "start_time": "2022-06-03T04:21:36.660693Z"
    }
   },
   "outputs": [],
   "source": [
    "from sklearn.impute import SimpleImputer\n",
    "from sklearn.pipeline import Pipeline\n",
    "from sklearn.preprocessing import OneHotEncoder\n",
    "\n",
    "from sklearn.impute import SimpleImputer, KNNImputer\n",
    "from sklearn.pipeline import Pipeline\n",
    "from sklearn.preprocessing import MinMaxScaler, Normalizer, PowerTransformer, RobustScaler\n",
    "from sklearn.compose import ColumnTransformer, make_column_selector\n",
    "\n",
    "numerical_prep_pipeline = Pipeline(\n",
    "    steps=[\n",
    "        (\"imputer\", SimpleImputer(strategy=\"mean\")),\n",
    "        (\"scaler\", RobustScaler(quantile_range=(5., 80.)))\n",
    "    ],\n",
    "    verbose=1\n",
    ")\n",
    "\n",
    "categorical_prep_pipeline = Pipeline(\n",
    "    steps=[\n",
    "        (\"imputer\", SimpleImputer(strategy=\"most_frequent\")),\n",
    "        (\"encoder\", OneHotEncoder())\n",
    "    ],\n",
    "    verbose=1\n",
    ")\n",
    "\n",
    "preprocess_pipeline = ColumnTransformer(\n",
    "    transformers=[\n",
    "        (\"step1_numerical_pipeline\", numerical_prep_pipeline, make_column_selector(dtype_include=\"number\")),\n",
    "        (\"step2_categorical_pipeline\", categorical_prep_pipeline, make_column_selector(dtype_include=\"object\"))\n",
    "    ],\n",
    "    verbose=1, verbose_feature_names_out=True\n",
    ")"
   ]
  },
  {
   "cell_type": "markdown",
   "id": "c8e41e59",
   "metadata": {},
   "source": [
    "## Model Pipeline"
   ]
  },
  {
   "cell_type": "code",
   "execution_count": 4,
   "id": "a4fb54a4",
   "metadata": {
    "ExecuteTime": {
     "end_time": "2022-06-03T04:21:36.886317Z",
     "start_time": "2022-06-03T04:21:36.866782Z"
    }
   },
   "outputs": [],
   "source": [
    "from sklearn.neighbors import KNeighborsClassifier\n",
    "\n",
    "model_pipeline = Pipeline(\n",
    "    steps=[\n",
    "        (\"step1_preprocess_pipeline\", preprocess_pipeline),\n",
    "        (\"step2_algo\", KNeighborsClassifier(n_jobs=-1))\n",
    "    ],\n",
    "    verbose=1\n",
    ")"
   ]
  },
  {
   "cell_type": "markdown",
   "id": "3fc82dbf",
   "metadata": {},
   "source": [
    "# Train"
   ]
  },
  {
   "cell_type": "code",
   "execution_count": 5,
   "id": "74fb17dc",
   "metadata": {
    "ExecuteTime": {
     "end_time": "2022-06-03T04:22:38.174842Z",
     "start_time": "2022-06-03T04:21:36.889711Z"
    }
   },
   "outputs": [
    {
     "name": "stdout",
     "output_type": "stream",
     "text": [
      "Fitting 3 folds for each of 10 candidates, totalling 30 fits\n",
      "[Pipeline] ........... (step 1 of 2) Processing imputer, total=   0.0s\n",
      "[Pipeline] ............ (step 2 of 2) Processing scaler, total=   0.1s\n",
      "[ColumnTransformer]  (1 of 2) Processing step1_numerical_pipeline, total=   0.2s\n",
      "[Pipeline] ........... (step 1 of 2) Processing imputer, total=   0.0s\n",
      "[Pipeline] ........... (step 2 of 2) Processing encoder, total=   0.0s\n",
      "[ColumnTransformer]  (2 of 2) Processing step2_categorical_pipeline, total=   0.0s\n",
      "[Pipeline]  (step 1 of 2) Processing step1_preprocess_pipeline, total=   0.2s\n",
      "[Pipeline] ........ (step 2 of 2) Processing step2_algo, total=   0.0s\n"
     ]
    },
    {
     "data": {
      "text/html": [
       "<div>\n",
       "<style scoped>\n",
       "    .dataframe tbody tr th:only-of-type {\n",
       "        vertical-align: middle;\n",
       "    }\n",
       "\n",
       "    .dataframe tbody tr th {\n",
       "        vertical-align: top;\n",
       "    }\n",
       "\n",
       "    .dataframe thead th {\n",
       "        text-align: right;\n",
       "    }\n",
       "</style>\n",
       "<table border=\"1\" class=\"dataframe\">\n",
       "  <thead>\n",
       "    <tr style=\"text-align: right;\">\n",
       "      <th></th>\n",
       "      <th>mean_fit_time</th>\n",
       "      <th>std_fit_time</th>\n",
       "      <th>mean_score_time</th>\n",
       "      <th>std_score_time</th>\n",
       "      <th>param_step2_algo__weights</th>\n",
       "      <th>param_step2_algo__n_neighbors</th>\n",
       "      <th>param_step2_algo__leaf_size</th>\n",
       "      <th>param_step2_algo__algorithm</th>\n",
       "      <th>params</th>\n",
       "      <th>split0_test_score</th>\n",
       "      <th>split1_test_score</th>\n",
       "      <th>split2_test_score</th>\n",
       "      <th>mean_test_score</th>\n",
       "      <th>std_test_score</th>\n",
       "      <th>rank_test_score</th>\n",
       "    </tr>\n",
       "  </thead>\n",
       "  <tbody>\n",
       "    <tr>\n",
       "      <th>7</th>\n",
       "      <td>9.489098</td>\n",
       "      <td>1.648664</td>\n",
       "      <td>1.988458</td>\n",
       "      <td>0.166168</td>\n",
       "      <td>uniform</td>\n",
       "      <td>25</td>\n",
       "      <td>44</td>\n",
       "      <td>brute</td>\n",
       "      <td>{'step2_algo__weights': 'uniform', 'step2_algo...</td>\n",
       "      <td>0.791246</td>\n",
       "      <td>0.814815</td>\n",
       "      <td>0.824916</td>\n",
       "      <td>0.810325</td>\n",
       "      <td>0.014108</td>\n",
       "      <td>1</td>\n",
       "    </tr>\n",
       "    <tr>\n",
       "      <th>2</th>\n",
       "      <td>2.428105</td>\n",
       "      <td>0.258325</td>\n",
       "      <td>0.778721</td>\n",
       "      <td>0.102767</td>\n",
       "      <td>uniform</td>\n",
       "      <td>15</td>\n",
       "      <td>39</td>\n",
       "      <td>brute</td>\n",
       "      <td>{'step2_algo__weights': 'uniform', 'step2_algo...</td>\n",
       "      <td>0.787879</td>\n",
       "      <td>0.801347</td>\n",
       "      <td>0.828283</td>\n",
       "      <td>0.805836</td>\n",
       "      <td>0.016798</td>\n",
       "      <td>2</td>\n",
       "    </tr>\n",
       "    <tr>\n",
       "      <th>8</th>\n",
       "      <td>10.313409</td>\n",
       "      <td>1.240175</td>\n",
       "      <td>1.692089</td>\n",
       "      <td>0.201907</td>\n",
       "      <td>uniform</td>\n",
       "      <td>15</td>\n",
       "      <td>17</td>\n",
       "      <td>kd_tree</td>\n",
       "      <td>{'step2_algo__weights': 'uniform', 'step2_algo...</td>\n",
       "      <td>0.787879</td>\n",
       "      <td>0.801347</td>\n",
       "      <td>0.828283</td>\n",
       "      <td>0.805836</td>\n",
       "      <td>0.016798</td>\n",
       "      <td>2</td>\n",
       "    </tr>\n",
       "    <tr>\n",
       "      <th>5</th>\n",
       "      <td>6.793096</td>\n",
       "      <td>0.536703</td>\n",
       "      <td>1.214545</td>\n",
       "      <td>0.100751</td>\n",
       "      <td>uniform</td>\n",
       "      <td>11</td>\n",
       "      <td>32</td>\n",
       "      <td>ball_tree</td>\n",
       "      <td>{'step2_algo__weights': 'uniform', 'step2_algo...</td>\n",
       "      <td>0.804714</td>\n",
       "      <td>0.784512</td>\n",
       "      <td>0.818182</td>\n",
       "      <td>0.802469</td>\n",
       "      <td>0.013837</td>\n",
       "      <td>4</td>\n",
       "    </tr>\n",
       "    <tr>\n",
       "      <th>6</th>\n",
       "      <td>9.635023</td>\n",
       "      <td>2.335202</td>\n",
       "      <td>1.503265</td>\n",
       "      <td>0.302388</td>\n",
       "      <td>distance</td>\n",
       "      <td>9</td>\n",
       "      <td>30</td>\n",
       "      <td>auto</td>\n",
       "      <td>{'step2_algo__weights': 'distance', 'step2_alg...</td>\n",
       "      <td>0.804714</td>\n",
       "      <td>0.787879</td>\n",
       "      <td>0.801347</td>\n",
       "      <td>0.797980</td>\n",
       "      <td>0.007274</td>\n",
       "      <td>5</td>\n",
       "    </tr>\n",
       "  </tbody>\n",
       "</table>\n",
       "</div>"
      ],
      "text/plain": [
       "   mean_fit_time  std_fit_time  mean_score_time  std_score_time  \\\n",
       "7       9.489098      1.648664         1.988458        0.166168   \n",
       "2       2.428105      0.258325         0.778721        0.102767   \n",
       "8      10.313409      1.240175         1.692089        0.201907   \n",
       "5       6.793096      0.536703         1.214545        0.100751   \n",
       "6       9.635023      2.335202         1.503265        0.302388   \n",
       "\n",
       "  param_step2_algo__weights param_step2_algo__n_neighbors  \\\n",
       "7                   uniform                            25   \n",
       "2                   uniform                            15   \n",
       "8                   uniform                            15   \n",
       "5                   uniform                            11   \n",
       "6                  distance                             9   \n",
       "\n",
       "  param_step2_algo__leaf_size param_step2_algo__algorithm  \\\n",
       "7                          44                       brute   \n",
       "2                          39                       brute   \n",
       "8                          17                     kd_tree   \n",
       "5                          32                   ball_tree   \n",
       "6                          30                        auto   \n",
       "\n",
       "                                              params  split0_test_score  \\\n",
       "7  {'step2_algo__weights': 'uniform', 'step2_algo...           0.791246   \n",
       "2  {'step2_algo__weights': 'uniform', 'step2_algo...           0.787879   \n",
       "8  {'step2_algo__weights': 'uniform', 'step2_algo...           0.787879   \n",
       "5  {'step2_algo__weights': 'uniform', 'step2_algo...           0.804714   \n",
       "6  {'step2_algo__weights': 'distance', 'step2_alg...           0.804714   \n",
       "\n",
       "   split1_test_score  split2_test_score  mean_test_score  std_test_score  \\\n",
       "7           0.814815           0.824916         0.810325        0.014108   \n",
       "2           0.801347           0.828283         0.805836        0.016798   \n",
       "8           0.801347           0.828283         0.805836        0.016798   \n",
       "5           0.784512           0.818182         0.802469        0.013837   \n",
       "6           0.787879           0.801347         0.797980        0.007274   \n",
       "\n",
       "   rank_test_score  \n",
       "7                1  \n",
       "2                2  \n",
       "8                2  \n",
       "5                4  \n",
       "6                5  "
      ]
     },
     "execution_count": 5,
     "metadata": {},
     "output_type": "execute_result"
    }
   ],
   "source": [
    "from sklearn.model_selection import RandomizedSearchCV\n",
    "\n",
    "params = {\n",
    "    \"step2_algo__n_neighbors\": [k for k in range(1, 52, 2)],\n",
    "    \"step2_algo__weights\": [\"uniform\", \"distance\"],\n",
    "    \"step2_algo__algorithm\": [\"auto\", \"ball_tree\", \"kd_tree\", \"brute\"],\n",
    "    \"step2_algo__leaf_size\": [n for n in range(1, 50)]\n",
    "}\n",
    "\n",
    "model = RandomizedSearchCV(estimator=model_pipeline, param_distributions=params, cv=3, scoring=\"accuracy\", n_jobs=-1, verbose=1)\n",
    "model.fit(X_train, y_train);\n",
    "\n",
    "pd.DataFrame(model.cv_results_).sort_values(by=\"rank_test_score\").iloc[:5, :]"
   ]
  },
  {
   "cell_type": "markdown",
   "id": "d1b941b8",
   "metadata": {},
   "source": [
    "# Save Model and Prediction"
   ]
  },
  {
   "cell_type": "markdown",
   "id": "e008272b",
   "metadata": {},
   "source": [
    "## Model"
   ]
  },
  {
   "cell_type": "code",
   "execution_count": 6,
   "id": "d93c3516",
   "metadata": {
    "ExecuteTime": {
     "end_time": "2022-06-03T04:22:38.860184Z",
     "start_time": "2022-06-03T04:22:38.181061Z"
    }
   },
   "outputs": [],
   "source": [
    "from datetime import datetime\n",
    "from joblib import dump, load\n",
    "\n",
    "now = datetime.now()\n",
    "now = now.strftime(\"%m_%d_%Y-%H_%M_%S\")\n",
    "model_name = str(model.estimator.named_steps.step2_algo).split(\"(\")[0]\n",
    "\n",
    "dump(value=model, filename=\"../../pretrained_models/\" + now + \"_\" + model_name +\".joblib\")\n",
    "model = load(filename=\"../../pretrained_models/\" + now + \"_\" + model_name + \".joblib\")"
   ]
  },
  {
   "cell_type": "markdown",
   "id": "1e0ff414",
   "metadata": {
    "ExecuteTime": {
     "end_time": "2022-06-03T03:05:44.137672Z",
     "start_time": "2022-06-03T03:05:44.118674Z"
    }
   },
   "source": [
    "## Prediction"
   ]
  },
  {
   "cell_type": "code",
   "execution_count": 7,
   "id": "2b35b16c",
   "metadata": {
    "ExecuteTime": {
     "end_time": "2022-06-03T04:22:43.564632Z",
     "start_time": "2022-06-03T04:22:38.868295Z"
    }
   },
   "outputs": [],
   "source": [
    "y_test_preds = model.predict(X=X_test)\n",
    "\n",
    "pred_df = pd.DataFrame({\n",
    "    \"PassengerId\": X_test.index,\n",
    "    \"Survived\": y_test_preds\n",
    "})\n",
    "\n",
    "pred_df.to_csv(\"../../submissions/\" + now + \"_\" + model_name + \".csv\", index=False)"
   ]
  }
 ],
 "metadata": {
  "kernelspec": {
   "display_name": "Python [conda env:ml] *",
   "language": "python",
   "name": "conda-env-ml-py"
  },
  "language_info": {
   "codemirror_mode": {
    "name": "ipython",
    "version": 3
   },
   "file_extension": ".py",
   "mimetype": "text/x-python",
   "name": "python",
   "nbconvert_exporter": "python",
   "pygments_lexer": "ipython3",
   "version": "3.10.4"
  },
  "nbTranslate": {
   "displayLangs": [
    "*"
   ],
   "hotkey": "alt-t",
   "langInMainMenu": true,
   "sourceLang": "en",
   "targetLang": "fr",
   "useGoogleTranslate": true
  },
  "toc": {
   "base_numbering": 1,
   "nav_menu": {},
   "number_sections": true,
   "sideBar": true,
   "skip_h1_title": false,
   "title_cell": "Table of Contents",
   "title_sidebar": "Contents",
   "toc_cell": false,
   "toc_position": {},
   "toc_section_display": true,
   "toc_window_display": true
  }
 },
 "nbformat": 4,
 "nbformat_minor": 5
}
